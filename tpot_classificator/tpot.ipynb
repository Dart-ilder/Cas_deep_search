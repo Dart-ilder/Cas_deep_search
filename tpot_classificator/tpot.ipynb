{
 "cells": [
  {
   "cell_type": "code",
   "execution_count": 48,
   "metadata": {},
   "outputs": [
    {
     "name": "stdout",
     "output_type": "stream",
     "text": [
      "Pytorch 1.13.1\n"
     ]
    },
    {
     "data": {
      "text/plain": [
       "'cuda'"
      ]
     },
     "execution_count": 48,
     "metadata": {},
     "output_type": "execute_result"
    }
   ],
   "source": [
    "import torch\n",
    "print(\"Pytorch \" + torch.__version__)\n",
    "import pandas as pd\n",
    "import numpy as np\n",
    "\n",
    "from torch import nn\n",
    "from torch.utils.data import Dataset, DataLoader\n",
    "\n",
    "from transformers import Trainer, TrainingArguments, EvalPrediction\n",
    "from datasets import load_dataset\n",
    "\n",
    "from sklearn import metrics\n",
    "from scipy import stats\n",
    "from functools import partial\n",
    "from tqdm.auto import tqdm\n",
    "\n",
    "from tpot import TPOTClassifier\n",
    "from sklearn.datasets import load_digits\n",
    "from sklearn.model_selection import train_test_split\n",
    "\n",
    "# Create device agnostic code\n",
    "DEVICE = \"cuda\" if torch.cuda.is_available() else \"cpu\"\n",
    "DEVICE"
   ]
  },
  {
   "cell_type": "code",
   "execution_count": 2,
   "metadata": {},
   "outputs": [
    {
     "data": {
      "text/html": [
       "<div>\n",
       "<style scoped>\n",
       "    .dataframe tbody tr th:only-of-type {\n",
       "        vertical-align: middle;\n",
       "    }\n",
       "\n",
       "    .dataframe tbody tr th {\n",
       "        vertical-align: top;\n",
       "    }\n",
       "\n",
       "    .dataframe thead th {\n",
       "        text-align: right;\n",
       "    }\n",
       "</style>\n",
       "<table border=\"1\" class=\"dataframe\">\n",
       "  <thead>\n",
       "    <tr style=\"text-align: right;\">\n",
       "      <th></th>\n",
       "      <th>Loci_id</th>\n",
       "      <th>Strand</th>\n",
       "      <th>Genome_assembly</th>\n",
       "      <th>Chromosome</th>\n",
       "      <th>N1</th>\n",
       "      <th>Protein_id</th>\n",
       "      <th>B2</th>\n",
       "      <th>Gene_id</th>\n",
       "      <th>Gene_family</th>\n",
       "      <th>Type</th>\n",
       "      <th>Species</th>\n",
       "      <th>Start</th>\n",
       "      <th>End</th>\n",
       "      <th>Seq</th>\n",
       "      <th>Prot</th>\n",
       "      <th>Embs</th>\n",
       "    </tr>\n",
       "  </thead>\n",
       "  <tbody>\n",
       "    <tr>\n",
       "      <th>0</th>\n",
       "      <td>RN99_05230</td>\n",
       "      <td>-</td>\n",
       "      <td>GCA_001296125.1</td>\n",
       "      <td>CP012714.1</td>\n",
       "      <td>991.0</td>\n",
       "      <td>ALF19893_1</td>\n",
       "      <td>+</td>\n",
       "      <td>cd09644</td>\n",
       "      <td>csn2</td>\n",
       "      <td>CAS-II-A</td>\n",
       "      <td>Fusobacterium_nucleatum_sub_vincentii_ChDC_F8_...</td>\n",
       "      <td>1100111</td>\n",
       "      <td>1100773</td>\n",
       "      <td>TTAGAAAATTTCACATAAATCATTATCTATAACAATTAAATTATCA...</td>\n",
       "      <td>MTFQYKGFNFKIDFEEKNIFSLIVENKRAYRKIIEDLVNNSNIEDG...</td>\n",
       "      <td>5.101668462157249451e-02,4.367627203464508057e...</td>\n",
       "    </tr>\n",
       "    <tr>\n",
       "      <th>1</th>\n",
       "      <td>RN99_05235</td>\n",
       "      <td>-</td>\n",
       "      <td>GCA_001296125.1</td>\n",
       "      <td>CP012714.1</td>\n",
       "      <td>992.0</td>\n",
       "      <td>ALF20727_1</td>\n",
       "      <td>+</td>\n",
       "      <td>mkCas0206</td>\n",
       "      <td>cas2</td>\n",
       "      <td>CAS-II-A</td>\n",
       "      <td>Fusobacterium_nucleatum_sub_vincentii_ChDC_F8_...</td>\n",
       "      <td>1100770</td>\n",
       "      <td>1101075</td>\n",
       "      <td>TCATAAAACCACAAGCCTTTCATCTGTTTCTAAAAATGTCCCTTTT...</td>\n",
       "      <td>MRMLLFFDLPSVTNSDLKEYRKFRKFLIENGFSMLQESVYSKLLLH...</td>\n",
       "      <td>6.999336928129196167e-02,-9.389735758304595947...</td>\n",
       "    </tr>\n",
       "    <tr>\n",
       "      <th>2</th>\n",
       "      <td>RN99_05240</td>\n",
       "      <td>-</td>\n",
       "      <td>GCA_001296125.1</td>\n",
       "      <td>CP012714.1</td>\n",
       "      <td>993.0</td>\n",
       "      <td>ALF19894_1</td>\n",
       "      <td>+</td>\n",
       "      <td>cd09720</td>\n",
       "      <td>cas1</td>\n",
       "      <td>CAS-II-A</td>\n",
       "      <td>Fusobacterium_nucleatum_sub_vincentii_ChDC_F8_...</td>\n",
       "      <td>1101080</td>\n",
       "      <td>1101958</td>\n",
       "      <td>CTATAACTCATCTTGAAAAAATCTCACTAATGATAAATCATTTGAG...</td>\n",
       "      <td>MSGWRVIIVTGRGKLDLRYNSISIRRDNGTDFIHIGEVNTLILETT...</td>\n",
       "      <td>4.088897258043289185e-02,-6.158418953418731689...</td>\n",
       "    </tr>\n",
       "  </tbody>\n",
       "</table>\n",
       "</div>"
      ],
      "text/plain": [
       "      Loci_id Strand  Genome_assembly  Chromosome     N1  Protein_id B2  \\\n",
       "0  RN99_05230      -  GCA_001296125.1  CP012714.1  991.0  ALF19893_1  +   \n",
       "1  RN99_05235      -  GCA_001296125.1  CP012714.1  992.0  ALF20727_1  +   \n",
       "2  RN99_05240      -  GCA_001296125.1  CP012714.1  993.0  ALF19894_1  +   \n",
       "\n",
       "     Gene_id Gene_family      Type  \\\n",
       "0    cd09644        csn2  CAS-II-A   \n",
       "1  mkCas0206        cas2  CAS-II-A   \n",
       "2    cd09720        cas1  CAS-II-A   \n",
       "\n",
       "                                             Species    Start      End  \\\n",
       "0  Fusobacterium_nucleatum_sub_vincentii_ChDC_F8_...  1100111  1100773   \n",
       "1  Fusobacterium_nucleatum_sub_vincentii_ChDC_F8_...  1100770  1101075   \n",
       "2  Fusobacterium_nucleatum_sub_vincentii_ChDC_F8_...  1101080  1101958   \n",
       "\n",
       "                                                 Seq  \\\n",
       "0  TTAGAAAATTTCACATAAATCATTATCTATAACAATTAAATTATCA...   \n",
       "1  TCATAAAACCACAAGCCTTTCATCTGTTTCTAAAAATGTCCCTTTT...   \n",
       "2  CTATAACTCATCTTGAAAAAATCTCACTAATGATAAATCATTTGAG...   \n",
       "\n",
       "                                                Prot  \\\n",
       "0  MTFQYKGFNFKIDFEEKNIFSLIVENKRAYRKIIEDLVNNSNIEDG...   \n",
       "1  MRMLLFFDLPSVTNSDLKEYRKFRKFLIENGFSMLQESVYSKLLLH...   \n",
       "2  MSGWRVIIVTGRGKLDLRYNSISIRRDNGTDFIHIGEVNTLILETT...   \n",
       "\n",
       "                                                Embs  \n",
       "0  5.101668462157249451e-02,4.367627203464508057e...  \n",
       "1  6.999336928129196167e-02,-9.389735758304595947...  \n",
       "2  4.088897258043289185e-02,-6.158418953418731689...  "
      ]
     },
     "execution_count": 2,
     "metadata": {},
     "output_type": "execute_result"
    }
   ],
   "source": [
    "cas_voc = pd.read_csv(\"./cas_voc.tsv\", sep=\"\\t\")\n",
    "cas_voc.head(3)"
   ]
  },
  {
   "cell_type": "code",
   "execution_count": 3,
   "metadata": {},
   "outputs": [
    {
     "data": {
      "text/plain": [
       "36970"
      ]
     },
     "execution_count": 3,
     "metadata": {},
     "output_type": "execute_result"
    }
   ],
   "source": [
    "embs = cas_voc[\"Embs\"]\n",
    "labels = cas_voc[\"Gene_family\"]\n",
    "embs = [np.fromstring(row, sep=',') for row in embs]\n",
    "embs = np.array(embs)\n",
    "len(embs)"
   ]
  },
  {
   "cell_type": "code",
   "execution_count": 15,
   "metadata": {},
   "outputs": [
    {
     "name": "stdout",
     "output_type": "stream",
     "text": [
      "[14, 1, 0]\n",
      "0    csn2\n",
      "1    cas2\n",
      "2    cas1\n",
      "Name: Gene_family, dtype: object\n"
     ]
    }
   ],
   "source": [
    "# Making my own tokenizer because apparently TPOT forgot how to read string classes\n",
    "\n",
    "path_classes = \"./genes_to_use.tsv\"\n",
    "with open(path_classes) as file:\n",
    "    lines = []\n",
    "    for i, line in enumerate(file):\n",
    "        if i!=0:\n",
    "            line = line.rstrip('\\n')\n",
    "            parts = line.split('\\t')\n",
    "            lines.append(parts[0])\n",
    "token = lines.index\n",
    "\n",
    "tags = []\n",
    "for label in labels:\n",
    "    tags.append(token(label))\n",
    "print(tags[0: 3])\n",
    "print(labels[0: 3])\n"
   ]
  },
  {
   "cell_type": "code",
   "execution_count": 16,
   "metadata": {},
   "outputs": [],
   "source": [
    "X_train, X_test, y_train, y_test = train_test_split(embs, tags,\n",
    "                                                    train_size=0.75, test_size=0.25, random_state=42, shuffle=True, stratify=tags)"
   ]
  },
  {
   "cell_type": "code",
   "execution_count": 6,
   "metadata": {},
   "outputs": [
    {
     "name": "stdout",
     "output_type": "stream",
     "text": [
      "Optimization Progress:   0%|          | 0/120 [00:00<?, ?pipeline/s]"
     ]
    }
   ],
   "source": [
    "# Configuration search, takes LONG (~3 hours)\n",
    "\n",
    "tpot = TPOTClassifier(generations=5, population_size=20, verbosity=2,\n",
    "                      config_dict='TPOT light', warm_start=False, use_dask=True, periodic_checkpoint_folder=\"./tpot_checkpoints/\", scoring='balanced_accuracy', cv=10)\n",
    "tpot.fit(X_train, y_train)\n",
    "tpot.export('tpot_light.py')"
   ]
  },
  {
   "cell_type": "code",
   "execution_count": 19,
   "metadata": {},
   "outputs": [
    {
     "name": "stderr",
     "output_type": "stream",
     "text": [
      "c:\\Users\\Dart_ilder\\miniconda3\\envs\\.conda_Cas\\lib\\site-packages\\sklearn\\linear_model\\_logistic.py:458: ConvergenceWarning: lbfgs failed to converge (status=1):\n",
      "STOP: TOTAL NO. of ITERATIONS REACHED LIMIT.\n",
      "\n",
      "Increase the number of iterations (max_iter) or scale the data as shown in:\n",
      "    https://scikit-learn.org/stable/modules/preprocessing.html\n",
      "Please also refer to the documentation for alternative solver options:\n",
      "    https://scikit-learn.org/stable/modules/linear_model.html#logistic-regression\n",
      "  n_iter_i = _check_optimize_result(\n"
     ]
    },
    {
     "data": {
      "text/plain": [
       "0.9800930433841826"
      ]
     },
     "execution_count": 19,
     "metadata": {},
     "output_type": "execute_result"
    }
   ],
   "source": [
    "# For TPOT-light scoring='balanced_accuracy', cv=10, generations=5, population_size=20,\n",
    "# Best pipeline: LogisticRegression(RobustScaler(input_matrix), C=1.0, dual=False, penalty=l2)\n",
    "\n",
    "import numpy as np\n",
    "import pandas as pd\n",
    "from sklearn.linear_model import LogisticRegression\n",
    "from sklearn.model_selection import train_test_split\n",
    "from sklearn.pipeline import make_pipeline\n",
    "from sklearn.preprocessing import RobustScaler\n",
    "\n",
    "# Average CV score on the training set was: 0.9474667732147433\n",
    "exported_pipeline = make_pipeline(\n",
    "    RobustScaler(),\n",
    "    LogisticRegression(C=1.0, dual=False, penalty=\"l2\", max_iter=100)\n",
    ")\n",
    "\n",
    "exported_pipeline.fit(X_train, y_train)\n",
    "exported_pipeline.score(X_test, y_test)\n",
    "\n"
   ]
  },
  {
   "cell_type": "code",
   "execution_count": 72,
   "metadata": {},
   "outputs": [
    {
     "data": {
      "text/plain": [
       "'csb1gr7'"
      ]
     },
     "execution_count": 72,
     "metadata": {},
     "output_type": "execute_result"
    }
   ],
   "source": [
    "# Checking accuracy of the least represented class\n",
    "\n",
    "mask = (tags ==34)\n",
    "tags = np.array(tags)\n",
    "a = tags[mask]\n",
    "A = np.array(embs)[mask]\n",
    "exported_pipeline.score(A, a)"
   ]
  },
  {
   "cell_type": "code",
   "execution_count": 60,
   "metadata": {},
   "outputs": [
    {
     "data": {
      "text/plain": [
       "<matplotlib.image.AxesImage at 0x1e7c6f95ed0>"
      ]
     },
     "execution_count": 60,
     "metadata": {},
     "output_type": "execute_result"
    },
    {
     "data": {
      "image/png": "[encoded data removed]",
      "text/plain": [
       "<Figure size 640x480 with 1 Axes>"
      ]
     },
     "metadata": {},
     "output_type": "display_data"
    }
   ],
   "source": [
    "import matplotlib.pyplot as plt\n",
    "from sklearn.datasets import make_classification\n",
    "from sklearn.metrics import confusion_matrix, ConfusionMatrixDisplay\n",
    "from sklearn.model_selection import train_test_split\n",
    "from sklearn.svm import SVC\n",
    "y_true = y_test\n",
    "y_pred = exported_pipeline.predict(X_test)\n",
    "cm = confusion_matrix(y_true, y_pred, normalize= \"true\")\n",
    "disp = ConfusionMatrixDisplay(confusion_matrix=cm,\n",
    "                              display_labels=clf.classes_)\n",
    "plt.imshow(cm)"
   ]
  },
  {
   "cell_type": "code",
   "execution_count": 74,
   "metadata": {},
   "outputs": [
    {
     "data": {
      "text/plain": [
       "['tpot_pipline.sav']"
      ]
     },
     "execution_count": 74,
     "metadata": {},
     "output_type": "execute_result"
    }
   ],
   "source": [
    "import joblib\n",
    "joblib.dump(exported_pipeline, \"tpot_pipline.sav\")"
   ]
  }
 ],
 "metadata": {
  "kernelspec": {
   "display_name": ".conda_Cas",
   "language": "python",
   "name": "python3"
  },
  "language_info": {
   "codemirror_mode": {
    "name": "ipython",
    "version": 3
   },
   "file_extension": ".py",
   "mimetype": "text/x-python",
   "name": "python",
   "nbconvert_exporter": "python",
   "pygments_lexer": "ipython3",
   "version": "3.10.9"
  },
  "orig_nbformat": 4,
  "vscode": {
   "interpreter": {
    "hash": "da1afe149ea59c877e77fe53b1ac084de54d1fd372eb9dbdb27c012f9b27984a"
   }
  }
 },
 "nbformat": 4,
 "nbformat_minor": 2
}
