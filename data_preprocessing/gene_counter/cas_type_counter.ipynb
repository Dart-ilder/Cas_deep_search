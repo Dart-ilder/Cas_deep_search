{
 "cells": [
  {
   "attachments": {},
   "cell_type": "markdown",
   "metadata": {},
   "source": [
    "# Gene type counter\n",
    "Counts rarity of every genetype. Dumb, straightforward"
   ]
  },
  {
   "cell_type": "code",
   "execution_count": 1,
   "metadata": {},
   "outputs": [],
   "source": [
    "import pandas as pd\n",
    "import numpy as np\n",
    "with open('./old_data/cas1903.isl.type.txt') as file:\n",
    "    cas_1903 = pd.read_csv(file, delimiter=\"\\t\", comment='=')"
   ]
  },
  {
   "cell_type": "code",
   "execution_count": 2,
   "metadata": {},
   "outputs": [],
   "source": [
    "cas_1903.Gene.value_counts().to_csv(\".\\Data\\cas_gene_counts_all.tsv\", sep=\"\\t\")\n",
    "cas_1903.Type.value_counts().to_csv(\".\\Data\\cas_type_counts.tsv\", sep=\"\\t\")"
   ]
  },
  {
   "cell_type": "code",
   "execution_count": 4,
   "metadata": {},
   "outputs": [
    {
     "data": {
      "text/html": [
       "<div>\n",
       "<style scoped>\n",
       "    .dataframe tbody tr th:only-of-type {\n",
       "        vertical-align: middle;\n",
       "    }\n",
       "\n",
       "    .dataframe tbody tr th {\n",
       "        vertical-align: top;\n",
       "    }\n",
       "\n",
       "    .dataframe thead th {\n",
       "        text-align: right;\n",
       "    }\n",
       "</style>\n",
       "<table border=\"1\" class=\"dataframe\">\n",
       "  <thead>\n",
       "    <tr style=\"text-align: right;\">\n",
       "      <th></th>\n",
       "      <th>Gene</th>\n",
       "      <th>Counnts</th>\n",
       "    </tr>\n",
       "  </thead>\n",
       "  <tbody>\n",
       "    <tr>\n",
       "      <th>1</th>\n",
       "      <td>cas1</td>\n",
       "      <td>4967</td>\n",
       "    </tr>\n",
       "    <tr>\n",
       "      <th>2</th>\n",
       "      <td>cas2</td>\n",
       "      <td>4717</td>\n",
       "    </tr>\n",
       "    <tr>\n",
       "      <th>3</th>\n",
       "      <td>cas5</td>\n",
       "      <td>3209</td>\n",
       "    </tr>\n",
       "    <tr>\n",
       "      <th>5</th>\n",
       "      <td>cas7</td>\n",
       "      <td>2764</td>\n",
       "    </tr>\n",
       "    <tr>\n",
       "      <th>6</th>\n",
       "      <td>cas3</td>\n",
       "      <td>2363</td>\n",
       "    </tr>\n",
       "  </tbody>\n",
       "</table>\n",
       "</div>"
      ],
      "text/plain": [
       "   Gene  Counnts\n",
       "1  cas1     4967\n",
       "2  cas2     4717\n",
       "3  cas5     3209\n",
       "5  cas7     2764\n",
       "6  cas3     2363"
      ]
     },
     "execution_count": 4,
     "metadata": {},
     "output_type": "execute_result"
    }
   ],
   "source": [
    "gene_counts = pd.DataFrame({'Gene':cas_1903.Gene.value_counts().index, 'Counnts':cas_1903.Gene.value_counts().values})\n",
    "gene_counts[gene_counts.Gene.str.startswith(\"cas\")].head()"
   ]
  },
  {
   "cell_type": "code",
   "execution_count": 5,
   "metadata": {},
   "outputs": [],
   "source": [
    "gene_counts = cas_1903.Gene.value_counts()\n",
    "for i in gene_counts.index:\n",
    "    #print(str(i).lower().startswith(\"cas\"))\n",
    "    if (str(i).lower().startswith(\"cas\") == False):\n",
    "        gene_counts = gene_counts.drop(i)\n",
    "gene_counts\n",
    "gene_counts.to_csv(\".\\Data\\cas_gene_counts_casonly.tsv\", sep=\"\\t\")"
   ]
  },
  {
   "attachments": {},
   "cell_type": "markdown",
   "metadata": {},
   "source": [
    "Subsequently genes_to_use was chosen, trimmed to leave only the most frequent, non CRISPR-Cas system genes were remomed"
   ]
  }
 ],
 "metadata": {
  "kernelspec": {
   "display_name": "Python 3",
   "language": "python",
   "name": "python3"
  },
  "language_info": {
   "codemirror_mode": {
    "name": "ipython",
    "version": 3
   },
   "file_extension": ".py",
   "mimetype": "text/x-python",
   "name": "python",
   "nbconvert_exporter": "python",
   "pygments_lexer": "ipython3",
   "version": "3.10.9"
  },
  "orig_nbformat": 4,
  "vscode": {
   "interpreter": {
    "hash": "eefbaa28ee59832011bb9565a82bf6bbfad22a05e4ac70064dfe3d2a0545ee7e"
   }
  }
 },
 "nbformat": 4,
 "nbformat_minor": 2
}
