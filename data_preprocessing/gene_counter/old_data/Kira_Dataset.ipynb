{
 "cells": [
  {
   "cell_type": "code",
   "execution_count": 1,
   "id": "flush-spanish",
   "metadata": {},
   "outputs": [],
   "source": [
    "import re\n",
    "import os\n",
    "import bs4\n",
    "import requests\n",
    "import numpy as np\n",
    "import pandas as pd\n",
    "import os.path as op\n",
    "from Bio import SeqIO\n",
    "from tqdm import tqdm"
   ]
  },
  {
   "cell_type": "code",
   "execution_count": 1,
   "id": "789d9297",
   "metadata": {},
   "outputs": [
    {
     "name": "stdout",
     "output_type": "stream",
     "text": [
      "TTMY_RS00505\t10\tGCF_002355995.1\tNZ_AP017920.1\t\t\t\t\t\tCAS-I-B\tThermus_thermophilus_TMY\n",
      "TTMY_RS00505\t100411..101394\t-\tGCF_002355995.1\tNZ_AP017920.1\t72\tWP_096410491_1\t+\tcd09722\tcas1\tCAS-I-B\tThermus_thermophilus_TMY\n",
      "TTMY_RS00510\t101387..101908\t-\tGCF_002355995.1\tNZ_AP017920.1\t73\tWP_096410492_1\t+\tpfam01930\tcas4\tCAS-I-B\tThermus_thermophilus_TMY\n",
      "TTMY_RS00515\t101884..103377\t-\tGCF_002355995.1\tNZ_AP017920.1\t74\tWP_096410493_1\t+\tCOG1203\tcas3\tCAS-I-B\tThermus_thermophilus_TMY\n",
      "TTMY_RS00520\t103385..104128\t-\tGCF_002355995.1\tNZ_AP017920.1\t75\tWP_096410494_1\t+\tcd09641\tcas3HD\tCAS-I-B\tThermus_thermophilus_TMY\n",
      "TTMY_RS00525\t104172..104900\t+\tGCF_002355995.1\tNZ_AP017920.1\t76\tWP_096412881_1\t+\tcd09652\tcas6\tCAS-I-B\tThermus_thermophilus_TMY\n",
      "TTMY_RS00530\t104893..106788\t+\tGCF_002355995.1\tNZ_AP017920.1\t77\tWP_096410495_1\t+\tpfam09484\tcas8b1\tCAS-I-B\tThermus_thermophilus_TMY\n",
      "TTMY_RS00535\t106769..107734\t+\tGCF_002355995.1\tNZ_AP017920.1\t78\tWP_096410496_1\t+\tpfam05107\tcas7b\tCAS-I-B\tThermus_thermophilus_TMY\n",
      "TTMY_RS00540\t107662..108264\t+\tGCF_002355995.1\tNZ_AP017920.1\t79\tWP_096410497_1\t+\tmkCas0191\tcas5\tCAS-I-B\tThermus_thermophilus_TMY\n",
      "TTMY_RS00545\t108446..108706\t+\tGCF_002355995.1\tNZ_AP017920.1\t80\tWP_096410498_1\t+\tcd09725\tcas2\tCAS-I-B\tThermus_thermophilus_TMY\n"
     ]
    }
   ],
   "source": [
    "%%bash\n",
    "\n",
    "head ../data/cas1903.isl.type.txt\n"
   ]
  },
  {
   "cell_type": "code",
   "execution_count": 9,
   "id": "associate-discipline",
   "metadata": {},
   "outputs": [],
   "source": [
    "cas1903 = []\n",
    "with open(\"../data/cas1903.isl.type.txt\", \"r\") as ih:\n",
    "    for a in ih:\n",
    "        cas1903.append(a.replace(\"\\n\", \"\"))"
   ]
  },
  {
   "cell_type": "code",
   "execution_count": 11,
   "id": "ignored-plant",
   "metadata": {},
   "outputs": [
    {
     "data": {
      "text/plain": [
       "72563"
      ]
     },
     "execution_count": 11,
     "metadata": {},
     "output_type": "execute_result"
    }
   ],
   "source": [
    "len(cas1903)"
   ]
  },
  {
   "cell_type": "code",
   "execution_count": 18,
   "id": "expired-worthy",
   "metadata": {},
   "outputs": [
    {
     "data": {
      "text/plain": [
       "71623"
      ]
     },
     "execution_count": 18,
     "metadata": {},
     "output_type": "execute_result"
    }
   ],
   "source": [
    "len(list(filter(lambda x: \"CAS-I\" in x, cas1903)))"
   ]
  },
  {
   "cell_type": "code",
   "execution_count": 78,
   "id": "necessary-intersection",
   "metadata": {},
   "outputs": [
    {
     "data": {
      "text/plain": [
       "1174"
      ]
     },
     "execution_count": 78,
     "metadata": {},
     "output_type": "execute_result"
    }
   ],
   "source": [
    "len(cas9)"
   ]
  },
  {
   "cell_type": "code",
   "execution_count": 55,
   "id": "dramatic-involvement",
   "metadata": {},
   "outputs": [],
   "source": [
    "cas9 = []\n",
    "for a in cas1903:\n",
    "    if \"cas9\" in a:\n",
    "        cas9.append(a.split(\"\\t\"))\n",
    "cas9 = np.stack(cas9)\n",
    "cas9 = pd.DataFrame(cas9)"
   ]
  },
  {
   "cell_type": "code",
   "execution_count": 65,
   "id": "continental-strip",
   "metadata": {},
   "outputs": [],
   "source": [
    "LINK = \"https://www.genome.jp/dbget-bin/www_bget?refseq+ID11\""
   ]
  },
  {
   "cell_type": "code",
   "execution_count": 66,
   "id": "casual-triumph",
   "metadata": {},
   "outputs": [],
   "source": [
    "genome_jp_ids = cas9[4].unique()"
   ]
  },
  {
   "cell_type": "code",
   "execution_count": 71,
   "id": "ceramic-cathedral",
   "metadata": {},
   "outputs": [
    {
     "data": {
      "text/plain": [
       "'NZ_CP016157.1'"
      ]
     },
     "execution_count": 71,
     "metadata": {},
     "output_type": "execute_result"
    }
   ],
   "source": [
    "a"
   ]
  },
  {
   "cell_type": "code",
   "execution_count": 1,
   "id": "funky-stocks",
   "metadata": {},
   "outputs": [],
   "source": [
    "from Bio import SeqIO"
   ]
  },
  {
   "cell_type": "code",
   "execution_count": 2,
   "id": "absolute-absorption",
   "metadata": {},
   "outputs": [
    {
     "data": {
      "text/plain": [
       "'MMLYLCSHNNVNLFDWLNESSLVAQPFMLKKISSTQLDLSAFAKKEAIGINYYKYLAIDLSAVVNDTETFKLAIQSIHIMNPKIKFLYIDIGNKTNVLQEVLKTFGDIPVITENPEEDMSRFKTQVTAGLQYTQQILDTEKESRGNTVIASNTTTGKNEASKKCEAKKEYIFKNQKVMVAVINAYPRAGSTTLSINMAAYLNSIGATVSCVELNGELGHLDKIINSTPGFTAVTENRFEREGVVYLKGEIPEEVNFVINDMSRVIQDESSEGALEFAKNCNVAILCGTSKPYELQEIKKKIELLQKYGCYKINLCLAFTPEHEKAHLADLFGDKHISVYFTEYTPDMFAEDVNSDVFQRIFQEYIKEKTNDNMVKLF'"
      ]
     },
     "execution_count": 2,
     "metadata": {},
     "output_type": "execute_result"
    }
   ],
   "source": [
    "str([a for a in SeqIO.parse(\"../data/found_nucleases/GCA_000022065.1_ASM2206v1_genomic.fna_filtered.fasta_novel.fasta\", \"fasta\")][1].seq.translate())"
   ]
  },
  {
   "cell_type": "code",
   "execution_count": 77,
   "id": "central-photographer",
   "metadata": {},
   "outputs": [
    {
     "name": "stderr",
     "output_type": "stream",
     "text": [
      "100%|██████████| 1106/1106 [8:27:10<00:00, 27.51s/it]  \n"
     ]
    }
   ],
   "source": [
    "if not op.exists(\"../data/genome_jps/\"):\n",
    "    os.makedirs(\"../data/genome_jps/\")\n",
    "for a in tqdm(genome_jp_ids):\n",
    "    try:\n",
    "        link = LINK.replace(\"ID11\", a.split(\".\")[0])\n",
    "        page = requests.get(link).text\n",
    "        soup = bs4.BeautifulSoup(page, 'html.parser')\n",
    "        text = soup.getText()\n",
    "        with open(\"../data/genome_jps/\"+a+\".txt\", \"w\") as oh:\n",
    "            oh.write(text)\n",
    "    except Exception as E:\n",
    "        print(E)"
   ]
  }
 ],
 "metadata": {
  "kernelspec": {
   "display_name": "Python 3",
   "language": "python",
   "name": "python3"
  },
  "language_info": {
   "codemirror_mode": {
    "name": "ipython",
    "version": 3
   },
   "file_extension": ".py",
   "mimetype": "text/x-python",
   "name": "python",
   "nbconvert_exporter": "python",
   "pygments_lexer": "ipython3",
   "version": "3.10.9"
  },
  "vscode": {
   "interpreter": {
    "hash": "eefbaa28ee59832011bb9565a82bf6bbfad22a05e4ac70064dfe3d2a0545ee7e"
   }
  }
 },
 "nbformat": 4,
 "nbformat_minor": 5
}
