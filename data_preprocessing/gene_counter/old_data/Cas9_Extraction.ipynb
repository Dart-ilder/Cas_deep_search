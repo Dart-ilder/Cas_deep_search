{
 "cells": [
  {
   "cell_type": "code",
   "execution_count": 1,
   "id": "rough-standing",
   "metadata": {},
   "outputs": [],
   "source": [
    "import re\n",
    "import os\n",
    "import os.path as op\n",
    "from tqdm import tqdm"
   ]
  },
  {
   "cell_type": "code",
   "execution_count": 2,
   "id": "impossible-chicago",
   "metadata": {},
   "outputs": [],
   "source": [
    "OUT_FILE = \"../data/cas9_Kira.fasta\"\n",
    "IN_DIR = \"../data/genome_jps/\""
   ]
  },
  {
   "cell_type": "code",
   "execution_count": 3,
   "id": "proper-bonus",
   "metadata": {},
   "outputs": [],
   "source": [
    "filenames = [op.join(IN_DIR, b) for b in [a for a in os.walk(IN_DIR)][0][2]]"
   ]
  },
  {
   "cell_type": "code",
   "execution_count": 4,
   "id": "ecological-terry",
   "metadata": {},
   "outputs": [],
   "source": [
    "def load_file(fn):\n",
    "    data = []\n",
    "    with open(fn, \"r\") as ih:\n",
    "        features = False\n",
    "        for a in ih:\n",
    "            if \"FEATURES\" in a:\n",
    "                features = True\n",
    "            if \"CONTIG\" in a:\n",
    "                break\n",
    "            if features:\n",
    "                data.append(a)\n",
    "    data = \"\".join(data).split(\" gene \")\n",
    "    return(data)"
   ]
  },
  {
   "cell_type": "code",
   "execution_count": 5,
   "id": "ignored-romania",
   "metadata": {},
   "outputs": [],
   "source": [
    "translation = \"/translation=\\\"[A-Z]+\\\"\""
   ]
  },
  {
   "cell_type": "code",
   "execution_count": 6,
   "id": "necessary-opportunity",
   "metadata": {
    "scrolled": true
   },
   "outputs": [
    {
     "name": "stderr",
     "output_type": "stream",
     "text": [
      "  2%|▏         | 19/1106 [00:00<00:11, 93.22it/s]"
     ]
    },
    {
     "name": "stdout",
     "output_type": "stream",
     "text": [
      "../data/genome_jps/NZ_CP009353.1.txt 'NoneType' object is not subscriptable\n",
      "../data/genome_jps/NZ_CP009753.1.txt 'NoneType' object is not subscriptable\n",
      "../data/genome_jps/NZ_CP009633.1.txt 'NoneType' object is not subscriptable\n"
     ]
    },
    {
     "name": "stderr",
     "output_type": "stream",
     "text": [
      "  4%|▍         | 48/1106 [00:00<00:12, 83.59it/s]"
     ]
    },
    {
     "name": "stdout",
     "output_type": "stream",
     "text": [
      "../data/genome_jps/NZ_CP026503.1.txt 'NoneType' object is not subscriptable\n",
      "../data/genome_jps/NZ_CP026503.1.txt 'NoneType' object is not subscriptable\n"
     ]
    },
    {
     "name": "stderr",
     "output_type": "stream",
     "text": [
      "  7%|▋         | 78/1106 [00:00<00:12, 83.65it/s]"
     ]
    },
    {
     "name": "stdout",
     "output_type": "stream",
     "text": [
      "../data/genome_jps/NZ_CP015929.1.txt 'NoneType' object is not subscriptable\n",
      "../data/genome_jps/NZ_CP021286.1.txt 'NoneType' object is not subscriptable\n"
     ]
    },
    {
     "name": "stderr",
     "output_type": "stream",
     "text": [
      "  9%|▉         | 104/1106 [00:01<00:13, 73.74it/s]"
     ]
    },
    {
     "name": "stdout",
     "output_type": "stream",
     "text": [
      "../data/genome_jps/NC_008245.1.txt 'NoneType' object is not subscriptable\n"
     ]
    },
    {
     "name": "stderr",
     "output_type": "stream",
     "text": [
      "\r\n",
      " 10%|█         | 114/1106 [00:01<00:12, 77.68it/s]"
     ]
    },
    {
     "name": "stdout",
     "output_type": "stream",
     "text": [
      "../data/genome_jps/NZ_CP009653.1.txt 'NoneType' object is not subscriptable\n"
     ]
    },
    {
     "name": "stderr",
     "output_type": "stream",
     "text": [
      " 14%|█▍        | 155/1106 [00:02<00:13, 70.24it/s]"
     ]
    },
    {
     "name": "stdout",
     "output_type": "stream",
     "text": [
      "../data/genome_jps/NZ_CP017601.1.txt 'NoneType' object is not subscriptable\n",
      "../data/genome_jps/NZ_CP009607.1.txt 'NoneType' object is not subscriptable\n"
     ]
    },
    {
     "name": "stderr",
     "output_type": "stream",
     "text": [
      " 16%|█▌        | 175/1106 [00:02<00:11, 78.34it/s]"
     ]
    },
    {
     "name": "stdout",
     "output_type": "stream",
     "text": [
      "../data/genome_jps/NC_017449.1.txt 'NoneType' object is not subscriptable\n",
      "../data/genome_jps/NC_006368.1.txt 'NoneType' object is not subscriptable\n"
     ]
    },
    {
     "name": "stderr",
     "output_type": "stream",
     "text": [
      " 20%|██        | 226/1106 [00:02<00:11, 76.67it/s]"
     ]
    },
    {
     "name": "stdout",
     "output_type": "stream",
     "text": [
      "../data/genome_jps/NZ_CP018912.1.txt 'NoneType' object is not subscriptable\n",
      "../data/genome_jps/NZ_CP010446.2.txt 'NoneType' object is not subscriptable\n",
      "../data/genome_jps/NZ_CP010290.1.txt 'NoneType' object is not subscriptable\n"
     ]
    },
    {
     "name": "stderr",
     "output_type": "stream",
     "text": [
      " 26%|██▌       | 284/1106 [00:03<00:10, 79.85it/s]"
     ]
    },
    {
     "name": "stdout",
     "output_type": "stream",
     "text": [
      "../data/genome_jps/NZ_CP021261.1.txt 'NoneType' object is not subscriptable\n",
      "../data/genome_jps/NZ_CP016877.1.txt 'NoneType' object is not subscriptable\n",
      "../data/genome_jps/NZ_CP016877.1.txt 'NoneType' object is not subscriptable\n"
     ]
    },
    {
     "name": "stderr",
     "output_type": "stream",
     "text": [
      " 34%|███▍      | 375/1106 [00:04<00:08, 89.05it/s]"
     ]
    },
    {
     "name": "stdout",
     "output_type": "stream",
     "text": [
      "../data/genome_jps/NZ_CP014241.1.txt 'NoneType' object is not subscriptable\n",
      "../data/genome_jps/NZ_CP014241.1.txt 'NoneType' object is not subscriptable\n",
      "../data/genome_jps/NZ_CP009682.1.txt 'NoneType' object is not subscriptable\n"
     ]
    },
    {
     "name": "stderr",
     "output_type": "stream",
     "text": [
      " 36%|███▋      | 402/1106 [00:05<00:08, 83.43it/s]"
     ]
    },
    {
     "name": "stdout",
     "output_type": "stream",
     "text": [
      "../data/genome_jps/NC_008601.1.txt 'NoneType' object is not subscriptable\n",
      "../data/genome_jps/NZ_CP016030.2.txt 'NoneType' object is not subscriptable\n"
     ]
    },
    {
     "name": "stderr",
     "output_type": "stream",
     "text": [
      " 38%|███▊      | 421/1106 [00:05<00:08, 82.62it/s]"
     ]
    },
    {
     "name": "stdout",
     "output_type": "stream",
     "text": [
      "../data/genome_jps/NC_016933.2.txt 'NoneType' object is not subscriptable\n"
     ]
    },
    {
     "name": "stderr",
     "output_type": "stream",
     "text": [
      " 44%|████▍     | 489/1106 [00:06<00:07, 78.41it/s]"
     ]
    },
    {
     "name": "stdout",
     "output_type": "stream",
     "text": [
      "../data/genome_jps/NZ_LR134332.1.txt 'NoneType' object is not subscriptable\n",
      "../data/genome_jps/NZ_LT632614.1.txt 'NoneType' object is not subscriptable\n",
      "../data/genome_jps/NZ_CP021279.1.txt 'NoneType' object is not subscriptable\n"
     ]
    },
    {
     "name": "stderr",
     "output_type": "stream",
     "text": [
      " 46%|████▋     | 513/1106 [00:06<00:08, 70.19it/s]"
     ]
    },
    {
     "name": "stdout",
     "output_type": "stream",
     "text": [
      "../data/genome_jps/NC_017450.1.txt 'NoneType' object is not subscriptable\n",
      "../data/genome_jps/NC_006570.2.txt 'NoneType' object is not subscriptable\n"
     ]
    },
    {
     "name": "stderr",
     "output_type": "stream",
     "text": [
      " 51%|█████     | 560/1106 [00:07<00:06, 80.85it/s]"
     ]
    },
    {
     "name": "stdout",
     "output_type": "stream",
     "text": [
      "../data/genome_jps/NZ_CP024634.1.txt 'NoneType' object is not subscriptable\n",
      "../data/genome_jps/NZ_CP021264.1.txt 'NoneType' object is not subscriptable\n"
     ]
    },
    {
     "name": "stderr",
     "output_type": "stream",
     "text": [
      " 54%|█████▍    | 598/1106 [00:07<00:06, 83.64it/s]"
     ]
    },
    {
     "name": "stdout",
     "output_type": "stream",
     "text": [
      "../data/genome_jps/NZ_CP017458.1.txt 'NoneType' object is not subscriptable\n",
      "../data/genome_jps/NZ_CP021256.1.txt 'NoneType' object is not subscriptable\n",
      "../data/genome_jps/NZ_CP017574.1.txt 'NoneType' object is not subscriptable\n",
      "../data/genome_jps/NZ_CP017602.1.txt 'NoneType' object is not subscriptable\n",
      "../data/genome_jps/NZ_CP010115.1.txt 'NoneType' object is not subscriptable\n"
     ]
    },
    {
     "name": "stderr",
     "output_type": "stream",
     "text": [
      " 57%|█████▋    | 626/1106 [00:07<00:05, 83.72it/s]"
     ]
    },
    {
     "name": "stdout",
     "output_type": "stream",
     "text": [
      "../data/genome_jps/NZ_CP012037.1.txt 'NoneType' object is not subscriptable\n",
      "../data/genome_jps/NZ_CP016635.1.txt 'NoneType' object is not subscriptable\n",
      "../data/genome_jps/NZ_CP023497.1.txt 'NoneType' object is not subscriptable\n",
      "../data/genome_jps/NZ_CP023497.1.txt 'NoneType' object is not subscriptable\n"
     ]
    },
    {
     "name": "stderr",
     "output_type": "stream",
     "text": [
      " 61%|██████    | 672/1106 [00:08<00:05, 85.60it/s]"
     ]
    },
    {
     "name": "stdout",
     "output_type": "stream",
     "text": [
      "../data/genome_jps/NC_009257.1.txt 'NoneType' object is not subscriptable\n",
      "../data/genome_jps/NZ_CP021258.1.txt 'NoneType' object is not subscriptable\n"
     ]
    },
    {
     "name": "stderr",
     "output_type": "stream",
     "text": [
      " 67%|██████▋   | 737/1106 [00:09<00:04, 74.50it/s]"
     ]
    },
    {
     "name": "stdout",
     "output_type": "stream",
     "text": [
      "../data/genome_jps/NZ_CP012372.1.txt 'NoneType' object is not subscriptable\n",
      "../data/genome_jps/NZ_CP021277.1.txt 'NoneType' object is not subscriptable\n"
     ]
    },
    {
     "name": "stderr",
     "output_type": "stream",
     "text": [
      " 68%|██████▊   | 753/1106 [00:09<00:05, 69.34it/s]"
     ]
    },
    {
     "name": "stdout",
     "output_type": "stream",
     "text": [
      "../data/genome_jps/NC_005090.1.txt 'NoneType' object is not subscriptable\n"
     ]
    },
    {
     "name": "stderr",
     "output_type": "stream",
     "text": [
      " 75%|███████▌  | 833/1106 [00:10<00:03, 79.43it/s]"
     ]
    },
    {
     "name": "stdout",
     "output_type": "stream",
     "text": [
      "../data/genome_jps/NZ_CP015927.1.txt 'NoneType' object is not subscriptable\n",
      "../data/genome_jps/NZ_CP015107.1.txt 'NoneType' object is not subscriptable\n"
     ]
    },
    {
     "name": "stderr",
     "output_type": "stream",
     "text": [
      " 78%|███████▊  | 866/1106 [00:11<00:03, 67.69it/s]"
     ]
    },
    {
     "name": "stdout",
     "output_type": "stream",
     "text": [
      "../data/genome_jps/NZ_CP021257.1.txt 'NoneType' object is not subscriptable\n",
      "../data/genome_jps/NZ_CP021490.1.txt 'NoneType' object is not subscriptable\n"
     ]
    },
    {
     "name": "stderr",
     "output_type": "stream",
     "text": [
      " 80%|████████  | 890/1106 [00:11<00:03, 68.72it/s]"
     ]
    },
    {
     "name": "stdout",
     "output_type": "stream",
     "text": [
      "../data/genome_jps/NZ_CP021260.1.txt 'NoneType' object is not subscriptable\n",
      "../data/genome_jps/NZ_CP021260.1.txt 'NoneType' object is not subscriptable\n",
      "../data/genome_jps/NZ_CP013130.1.txt 'NoneType' object is not subscriptable\n",
      "../data/genome_jps/NZ_CP013130.1.txt 'NoneType' object is not subscriptable\n"
     ]
    },
    {
     "name": "stderr",
     "output_type": "stream",
     "text": [
      " 83%|████████▎ | 916/1106 [00:11<00:02, 70.08it/s]"
     ]
    },
    {
     "name": "stdout",
     "output_type": "stream",
     "text": [
      "../data/genome_jps/NZ_CP021281.1.txt 'NoneType' object is not subscriptable\n"
     ]
    },
    {
     "name": "stderr",
     "output_type": "stream",
     "text": [
      " 84%|████████▍ | 933/1106 [00:12<00:02, 76.20it/s]"
     ]
    },
    {
     "name": "stdout",
     "output_type": "stream",
     "text": [
      "../data/genome_jps/NZ_CP014016.2.txt 'NoneType' object is not subscriptable\n",
      "../data/genome_jps/NZ_CP014016.2.txt 'NoneType' object is not subscriptable\n",
      "../data/genome_jps/NZ_CP014016.2.txt 'NoneType' object is not subscriptable\n",
      "../data/genome_jps/NZ_CP014016.2.txt 'NoneType' object is not subscriptable\n"
     ]
    },
    {
     "name": "stderr",
     "output_type": "stream",
     "text": [
      " 89%|████████▉ | 983/1106 [00:12<00:01, 76.16it/s]"
     ]
    },
    {
     "name": "stdout",
     "output_type": "stream",
     "text": [
      "../data/genome_jps/NZ_CP012588.1.txt 'NoneType' object is not subscriptable\n",
      "../data/genome_jps/NZ_CP012588.1.txt 'NoneType' object is not subscriptable\n",
      "../data/genome_jps/NC_016937.2.txt 'NoneType' object is not subscriptable\n",
      "../data/genome_jps/NZ_LR134366.1.txt 'NoneType' object is not subscriptable\n",
      "../data/genome_jps/NZ_CP011105.1.txt 'NoneType' object is not subscriptable\n"
     ]
    },
    {
     "name": "stderr",
     "output_type": "stream",
     "text": [
      " 92%|█████████▏| 1019/1106 [00:13<00:01, 77.84it/s]"
     ]
    },
    {
     "name": "stdout",
     "output_type": "stream",
     "text": [
      "../data/genome_jps/NZ_CP018093.1.txt 'NoneType' object is not subscriptable\n",
      "../data/genome_jps/NZ_CP016277.1.txt 'NoneType' object is not subscriptable\n"
     ]
    },
    {
     "name": "stderr",
     "output_type": "stream",
     "text": [
      " 94%|█████████▍| 1042/1106 [00:13<00:00, 65.73it/s]"
     ]
    },
    {
     "name": "stdout",
     "output_type": "stream",
     "text": [
      "../data/genome_jps/NZ_CP021263.1.txt 'NoneType' object is not subscriptable\n"
     ]
    },
    {
     "name": "stderr",
     "output_type": "stream",
     "text": [
      " 96%|█████████▌| 1063/1106 [00:13<00:00, 60.84it/s]"
     ]
    },
    {
     "name": "stdout",
     "output_type": "stream",
     "text": [
      "../data/genome_jps/NZ_CP015931.1.txt 'NoneType' object is not subscriptable\n",
      "../data/genome_jps/NC_017453.1.txt 'NoneType' object is not subscriptable\n"
     ]
    },
    {
     "name": "stderr",
     "output_type": "stream",
     "text": [
      " 97%|█████████▋| 1076/1106 [00:14<00:00, 57.26it/s]"
     ]
    },
    {
     "name": "stdout",
     "output_type": "stream",
     "text": [
      "../data/genome_jps/NZ_CP020773.1.txt 'NoneType' object is not subscriptable\n",
      "../data/genome_jps/NZ_CP020773.1.txt 'NoneType' object is not subscriptable\n"
     ]
    },
    {
     "name": "stderr",
     "output_type": "stream",
     "text": [
      "100%|█████████▉| 1101/1106 [00:14<00:00, 56.57it/s]"
     ]
    },
    {
     "name": "stdout",
     "output_type": "stream",
     "text": [
      "../data/genome_jps/NZ_CP007749.1.txt 'NoneType' object is not subscriptable\n",
      "../data/genome_jps/NZ_CP007749.1.txt 'NoneType' object is not subscriptable\n",
      "../data/genome_jps/NZ_CP017457.1.txt 'NoneType' object is not subscriptable\n"
     ]
    },
    {
     "name": "stderr",
     "output_type": "stream",
     "text": [
      "100%|██████████| 1106/1106 [00:14<00:00, 75.29it/s]\n"
     ]
    }
   ],
   "source": [
    "with open(OUT_FILE, \"w\") as oh:\n",
    "    for fn in tqdm(filenames):\n",
    "        data = load_file(fn)\n",
    "        cas9 = [\n",
    "            a.replace(\"\\n\", \"\").replace(\" \", \"\")\n",
    "                for a in list(filter(lambda x: \"cas9\" in x.lower(), data))\n",
    "        ]\n",
    "        raws = []\n",
    "        for a in cas9:\n",
    "            try:\n",
    "                s = re.search(translation, a)[0]\n",
    "                s = s.replace(\"\\\"\", \"\").replace(\"/translation=\", \"\")\n",
    "            except Exception as E:\n",
    "                print(fn, E)\n",
    "            else:\n",
    "                raws.append(s)\n",
    "        for i,a in enumerate(raws):\n",
    "            fh = \">\"+fn+\".\"+str(i)+\"\\n\"\n",
    "            oh.write(fh)\n",
    "            oh.write(a+\"\\n\\n\")"
   ]
  }
 ],
 "metadata": {
  "kernelspec": {
   "display_name": "Python 3",
   "language": "python",
   "name": "python3"
  },
  "language_info": {
   "codemirror_mode": {
    "name": "ipython",
    "version": 3
   },
   "file_extension": ".py",
   "mimetype": "text/x-python",
   "name": "python",
   "nbconvert_exporter": "python",
   "pygments_lexer": "ipython3",
   "version": "3.10.9"
  },
  "vscode": {
   "interpreter": {
    "hash": "eefbaa28ee59832011bb9565a82bf6bbfad22a05e4ac70064dfe3d2a0545ee7e"
   }
  }
 },
 "nbformat": 4,
 "nbformat_minor": 5
}
