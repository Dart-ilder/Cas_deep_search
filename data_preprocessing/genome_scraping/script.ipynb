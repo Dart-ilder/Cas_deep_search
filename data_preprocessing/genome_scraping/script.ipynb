{
 "cells": [
  {
   "attachments": {},
   "cell_type": "markdown",
   "metadata": {},
   "source": [
    "# Big script for all prepocessing of the genome data"
   ]
  },
  {
   "attachments": {},
   "cell_type": "markdown",
   "metadata": {},
   "source": [
    "### Parcing genomes to extract genes of interest and translate them to proteins"
   ]
  },
  {
   "attachments": {},
   "cell_type": "markdown",
   "metadata": {},
   "source": [
    "#### Reading all the needed genes"
   ]
  },
  {
   "cell_type": "code",
   "execution_count": 2,
   "metadata": {},
   "outputs": [
    {
     "data": {
      "text/plain": [
       "(66309,)"
      ]
     },
     "execution_count": 2,
     "metadata": {},
     "output_type": "execute_result"
    }
   ],
   "source": [
    "import pandas as pd\n",
    "import numpy as np\n",
    "#load library of all annotated genes from Kira's paper\n",
    "with open('./cas1903.isl.type.txt') as file:\n",
    "    cas_voc = pd.read_csv(file, delimiter=\"\\t\", comment='=')\n",
    "cas_voc['Position'].shape"
   ]
  },
  {
   "cell_type": "code",
   "execution_count": 3,
   "metadata": {},
   "outputs": [],
   "source": [
    "# Add more convitient start and end fileds\n",
    "cas_voc[['Start', 'End']] = cas_voc['Position'].astype(str).apply(lambda x: x.split('..')).tolist()\n",
    "cas_voc.drop('Position', axis=1, inplace=True)"
   ]
  },
  {
   "cell_type": "code",
   "execution_count": 4,
   "metadata": {},
   "outputs": [
    {
     "data": {
      "text/html": [
       "<div>\n",
       "<style scoped>\n",
       "    .dataframe tbody tr th:only-of-type {\n",
       "        vertical-align: middle;\n",
       "    }\n",
       "\n",
       "    .dataframe tbody tr th {\n",
       "        vertical-align: top;\n",
       "    }\n",
       "\n",
       "    .dataframe thead th {\n",
       "        text-align: right;\n",
       "    }\n",
       "</style>\n",
       "<table border=\"1\" class=\"dataframe\">\n",
       "  <thead>\n",
       "    <tr style=\"text-align: right;\">\n",
       "      <th></th>\n",
       "      <th>Loci_id</th>\n",
       "      <th>Strand</th>\n",
       "      <th>Genome_assembly</th>\n",
       "      <th>Chromosome</th>\n",
       "      <th>N1</th>\n",
       "      <th>Protein_id</th>\n",
       "      <th>B2</th>\n",
       "      <th>Gene_id</th>\n",
       "      <th>Gene_family</th>\n",
       "      <th>Type</th>\n",
       "      <th>Species</th>\n",
       "      <th>Start</th>\n",
       "      <th>End</th>\n",
       "    </tr>\n",
       "  </thead>\n",
       "  <tbody>\n",
       "    <tr>\n",
       "      <th>0</th>\n",
       "      <td>TTMY_RS00505</td>\n",
       "      <td>-</td>\n",
       "      <td>GCF_002355995.1</td>\n",
       "      <td>NZ_AP017920.1</td>\n",
       "      <td>72.0</td>\n",
       "      <td>WP_096410491_1</td>\n",
       "      <td>+</td>\n",
       "      <td>cd09722</td>\n",
       "      <td>cas1</td>\n",
       "      <td>CAS-I-B</td>\n",
       "      <td>Thermus_thermophilus_TMY</td>\n",
       "      <td>100411</td>\n",
       "      <td>101394</td>\n",
       "    </tr>\n",
       "    <tr>\n",
       "      <th>1</th>\n",
       "      <td>TTMY_RS00510</td>\n",
       "      <td>-</td>\n",
       "      <td>GCF_002355995.1</td>\n",
       "      <td>NZ_AP017920.1</td>\n",
       "      <td>73.0</td>\n",
       "      <td>WP_096410492_1</td>\n",
       "      <td>+</td>\n",
       "      <td>pfam01930</td>\n",
       "      <td>cas4</td>\n",
       "      <td>CAS-I-B</td>\n",
       "      <td>Thermus_thermophilus_TMY</td>\n",
       "      <td>101387</td>\n",
       "      <td>101908</td>\n",
       "    </tr>\n",
       "    <tr>\n",
       "      <th>2</th>\n",
       "      <td>TTMY_RS00515</td>\n",
       "      <td>-</td>\n",
       "      <td>GCF_002355995.1</td>\n",
       "      <td>NZ_AP017920.1</td>\n",
       "      <td>74.0</td>\n",
       "      <td>WP_096410493_1</td>\n",
       "      <td>+</td>\n",
       "      <td>COG1203</td>\n",
       "      <td>cas3</td>\n",
       "      <td>CAS-I-B</td>\n",
       "      <td>Thermus_thermophilus_TMY</td>\n",
       "      <td>101884</td>\n",
       "      <td>103377</td>\n",
       "    </tr>\n",
       "    <tr>\n",
       "      <th>3</th>\n",
       "      <td>TTMY_RS00520</td>\n",
       "      <td>-</td>\n",
       "      <td>GCF_002355995.1</td>\n",
       "      <td>NZ_AP017920.1</td>\n",
       "      <td>75.0</td>\n",
       "      <td>WP_096410494_1</td>\n",
       "      <td>+</td>\n",
       "      <td>cd09641</td>\n",
       "      <td>cas3HD</td>\n",
       "      <td>CAS-I-B</td>\n",
       "      <td>Thermus_thermophilus_TMY</td>\n",
       "      <td>103385</td>\n",
       "      <td>104128</td>\n",
       "    </tr>\n",
       "    <tr>\n",
       "      <th>4</th>\n",
       "      <td>TTMY_RS00525</td>\n",
       "      <td>+</td>\n",
       "      <td>GCF_002355995.1</td>\n",
       "      <td>NZ_AP017920.1</td>\n",
       "      <td>76.0</td>\n",
       "      <td>WP_096412881_1</td>\n",
       "      <td>+</td>\n",
       "      <td>cd09652</td>\n",
       "      <td>cas6</td>\n",
       "      <td>CAS-I-B</td>\n",
       "      <td>Thermus_thermophilus_TMY</td>\n",
       "      <td>104172</td>\n",
       "      <td>104900</td>\n",
       "    </tr>\n",
       "  </tbody>\n",
       "</table>\n",
       "</div>"
      ],
      "text/plain": [
       "        Loci_id Strand  Genome_assembly     Chromosome    N1      Protein_id  \\\n",
       "0  TTMY_RS00505      -  GCF_002355995.1  NZ_AP017920.1  72.0  WP_096410491_1   \n",
       "1  TTMY_RS00510      -  GCF_002355995.1  NZ_AP017920.1  73.0  WP_096410492_1   \n",
       "2  TTMY_RS00515      -  GCF_002355995.1  NZ_AP017920.1  74.0  WP_096410493_1   \n",
       "3  TTMY_RS00520      -  GCF_002355995.1  NZ_AP017920.1  75.0  WP_096410494_1   \n",
       "4  TTMY_RS00525      +  GCF_002355995.1  NZ_AP017920.1  76.0  WP_096412881_1   \n",
       "\n",
       "  B2    Gene_id Gene_family     Type                   Species   Start     End  \n",
       "0  +    cd09722        cas1  CAS-I-B  Thermus_thermophilus_TMY  100411  101394  \n",
       "1  +  pfam01930        cas4  CAS-I-B  Thermus_thermophilus_TMY  101387  101908  \n",
       "2  +    COG1203        cas3  CAS-I-B  Thermus_thermophilus_TMY  101884  103377  \n",
       "3  +    cd09641      cas3HD  CAS-I-B  Thermus_thermophilus_TMY  103385  104128  \n",
       "4  +    cd09652        cas6  CAS-I-B  Thermus_thermophilus_TMY  104172  104900  "
      ]
     },
     "execution_count": 4,
     "metadata": {},
     "output_type": "execute_result"
    }
   ],
   "source": [
    "# Drop CRISPR arrays annotation\n",
    "cas_voc[\"Protein_id\"].str.replace(\"_1\", \".1\")\n",
    "cas_voc = cas_voc.dropna(subset=['Protein_id'])\n",
    "cas_voc.head()"
   ]
  },
  {
   "cell_type": "code",
   "execution_count": 5,
   "metadata": {},
   "outputs": [],
   "source": [
    "# Read genes_to_use list of approved for training gene-tags\n",
    "genes_to_use = set()\n",
    "with open(\"genes_to_use.tsv\", \"r\") as file:\n",
    "    for line in file:\n",
    "        genes_to_use.add(line.split()[0])\n",
    "genes_to_use.remove(\"Gene\")"
   ]
  },
  {
   "cell_type": "code",
   "execution_count": 6,
   "metadata": {},
   "outputs": [
    {
     "data": {
      "text/plain": [
       "37307"
      ]
     },
     "execution_count": 6,
     "metadata": {},
     "output_type": "execute_result"
    }
   ],
   "source": [
    "# Mask genes_to_use on cas_voc\n",
    "cas_voc_1 = cas_voc[cas_voc[\"Gene_family\"].apply(lambda x: x in genes_to_use)]\n",
    "cas_voc = cas_voc_1\n",
    "len(cas_voc)\n"
   ]
  },
  {
   "attachments": {},
   "cell_type": "markdown",
   "metadata": {},
   "source": [
    "All needed genes and information about them is now in cas_voc"
   ]
  },
  {
   "cell_type": "code",
   "execution_count": 7,
   "metadata": {},
   "outputs": [],
   "source": [
    "# Extract all needed genome assessions (typos included) for future download\n",
    "\n",
    "assessions = cas_voc[\"Genome_assembly\"].to_list()"
   ]
  },
  {
   "cell_type": "code",
   "execution_count": 8,
   "metadata": {},
   "outputs": [],
   "source": [
    "filename = \"./assessions.txt\"   \n",
    "ass = set(assessions)\n",
    "with open(filename, \"w\") as f:\n",
    "    for i in ass:\n",
    "        f.write(i+\"\\n\")\n",
    "\n"
   ]
  },
  {
   "cell_type": "code",
   "execution_count": 9,
   "metadata": {},
   "outputs": [
    {
     "data": {
      "text/plain": [
       "4838"
      ]
     },
     "execution_count": 9,
     "metadata": {},
     "output_type": "execute_result"
    }
   ],
   "source": [
    "len(ass)"
   ]
  },
  {
   "attachments": {},
   "cell_type": "markdown",
   "metadata": {},
   "source": [
    "Run commands from script.sh file\n",
    "\n",
    "Unzipping is broken, you need to concatenate each \"./ncbi_dataset/ncbi_dataset/data/dataset_catalog.json\" file from archives into one big in the unzipped folder manually"
   ]
  },
  {
   "attachments": {},
   "cell_type": "markdown",
   "metadata": {},
   "source": [
    "### Reading all the assembly files, extracting sequences\n"
   ]
  },
  {
   "cell_type": "code",
   "execution_count": 10,
   "metadata": {},
   "outputs": [
    {
     "ename": "FileNotFoundError",
     "evalue": "[Errno 2] No such file or directory: './ncbi_dataset/ncbi_dataset/data/dataset_catalog.json'",
     "output_type": "error",
     "traceback": [
      "\u001b[1;31m---------------------------------------------------------------------------\u001b[0m",
      "\u001b[1;31mFileNotFoundError\u001b[0m                         Traceback (most recent call last)",
      "Cell \u001b[1;32mIn[10], line 8\u001b[0m\n\u001b[0;32m      5\u001b[0m filename \u001b[39m=\u001b[39m \u001b[39m\"\u001b[39m\u001b[39m./ncbi_dataset/ncbi_dataset/data/dataset_catalog.json\u001b[39m\u001b[39m\"\u001b[39m\n\u001b[0;32m      7\u001b[0m \u001b[39m# load the JSON data from a file or a string\u001b[39;00m\n\u001b[1;32m----> 8\u001b[0m \u001b[39mwith\u001b[39;00m \u001b[39mopen\u001b[39;49m(filename, \u001b[39m'\u001b[39;49m\u001b[39mr\u001b[39;49m\u001b[39m'\u001b[39;49m) \u001b[39mas\u001b[39;00m f:\n\u001b[0;32m      9\u001b[0m     data \u001b[39m=\u001b[39m json\u001b[39m.\u001b[39mload(f)\n\u001b[0;32m     12\u001b[0m \u001b[39m# access the values using the keys\u001b[39;00m\n",
      "File \u001b[1;32mc:\\Users\\Dart_ilder\\miniconda3\\envs\\.conda_Cas\\lib\\site-packages\\IPython\\core\\interactiveshell.py:282\u001b[0m, in \u001b[0;36m_modified_open\u001b[1;34m(file, *args, **kwargs)\u001b[0m\n\u001b[0;32m    275\u001b[0m \u001b[39mif\u001b[39;00m file \u001b[39min\u001b[39;00m {\u001b[39m0\u001b[39m, \u001b[39m1\u001b[39m, \u001b[39m2\u001b[39m}:\n\u001b[0;32m    276\u001b[0m     \u001b[39mraise\u001b[39;00m \u001b[39mValueError\u001b[39;00m(\n\u001b[0;32m    277\u001b[0m         \u001b[39mf\u001b[39m\u001b[39m\"\u001b[39m\u001b[39mIPython won\u001b[39m\u001b[39m'\u001b[39m\u001b[39mt let you open fd=\u001b[39m\u001b[39m{\u001b[39;00mfile\u001b[39m}\u001b[39;00m\u001b[39m by default \u001b[39m\u001b[39m\"\u001b[39m\n\u001b[0;32m    278\u001b[0m         \u001b[39m\"\u001b[39m\u001b[39mas it is likely to crash IPython. If you know what you are doing, \u001b[39m\u001b[39m\"\u001b[39m\n\u001b[0;32m    279\u001b[0m         \u001b[39m\"\u001b[39m\u001b[39myou can use builtins\u001b[39m\u001b[39m'\u001b[39m\u001b[39m open.\u001b[39m\u001b[39m\"\u001b[39m\n\u001b[0;32m    280\u001b[0m     )\n\u001b[1;32m--> 282\u001b[0m \u001b[39mreturn\u001b[39;00m io_open(file, \u001b[39m*\u001b[39margs, \u001b[39m*\u001b[39m\u001b[39m*\u001b[39mkwargs)\n",
      "\u001b[1;31mFileNotFoundError\u001b[0m: [Errno 2] No such file or directory: './ncbi_dataset/ncbi_dataset/data/dataset_catalog.json'"
     ]
    }
   ],
   "source": [
    "# Read all genome files and assembly ids\n",
    "\n",
    "import json\n",
    "file_structure = pd.DataFrame(columns=[\"Assembly\", \"Path\"])\n",
    "filename = \"./ncbi_dataset/ncbi_dataset/data/dataset_catalog.json\"\n",
    "\n",
    "# load the JSON data from a file or a string\n",
    "with open(filename, 'r') as f:\n",
    "    data = json.load(f)\n",
    "    \n",
    "\n",
    "# access the values using the keys\n",
    "api_version = data['apiVersion']\n",
    "assemblies = data['assemblies']\n",
    "\n",
    "# iterate over the assemblies and access their values\n",
    "for assembly in assemblies:\n",
    "    accession = assembly.get('accession', 'N/A')\n",
    "    files = assembly['files']\n",
    "    for file in files:\n",
    "        if (file['fileType'] == \"GENOMIC_NUCLEOTIDE_FASTA\"):\n",
    "            df = pd.DataFrame({\"Assembly\":[str(accession)], \"Path\":[file[\"filePath\"]]})\n",
    "            file_structure = pd.concat([file_structure, df], ignore_index=True)\n"
   ]
  },
  {
   "attachments": {},
   "cell_type": "markdown",
   "metadata": {},
   "source": [
    "Unfortunately not all genome accessions found ind ncbi's database"
   ]
  },
  {
   "cell_type": "code",
   "execution_count": 10,
   "metadata": {},
   "outputs": [
    {
     "name": "stdout",
     "output_type": "stream",
     "text": [
      "                 0\n",
      "0  GCF_000147855.2\n",
      "1  GCF_000021385.1\n",
      "2  GCF_000014905.1\n",
      "3  GCF_000018005.1\n",
      "4  GCF_000013105.1\n",
      "33\n"
     ]
    }
   ],
   "source": [
    "missing = pd.DataFrame(ass - set(file_structure[\"Assembly\"]))\n",
    "print(missing.head())\n",
    "print(len(missing))"
   ]
  },
  {
   "cell_type": "code",
   "execution_count": 11,
   "metadata": {},
   "outputs": [],
   "source": [
    "# Read all the genome assession files, check in cas_voc what genes are needed from that file, read those genes, add new filed for Seq into all needed genes from cas_voc \n",
    "\n",
    "# Takes ~5m\n",
    "\n",
    "from Bio import SeqIO\n",
    "\n",
    "# Reads assession files one by one and takes from them what's needed\n",
    "def extract_from_fasta(sub_voc, current_assembly):\n",
    "    filepath = \"./ncbi_dataset/ncbi_dataset/data/\"+current_assembly[\"Path\"]\n",
    "    new_sub_voc = pd.DataFrame()\n",
    "    with open(filepath, \"r\") as handle:\n",
    "        for record in SeqIO.parse(handle, \"fasta\"):\n",
    "            for index, gene in sub_voc.iterrows():\n",
    "                if (record.id == gene[\"Chromosome\"]):\n",
    "                    seq = record.seq[int(gene[\"Start\"])-1 : int(gene[\"End\"])]\n",
    "                    seq = pd.Series({\"Seq\":(str(seq))})\n",
    "                    gene_1 = pd.concat([gene, seq], axis=0)\n",
    "                    new_sub_voc = pd.concat([new_sub_voc, gene_1.to_frame().T], axis = 0)\n",
    "                    gene_1 = []\n",
    "    if len(new_sub_voc) != len(sub_voc): #check that we found sequences for all genes requested in sub_voc\n",
    "        print(new_sub_voc, sub_voc)\n",
    "    return new_sub_voc\n",
    "\n",
    "\n",
    "new_cas_voc = pd.DataFrame() # needed to not overwrite cas_voc in this cell\n",
    "for index, current_assembly in file_structure.iterrows():\n",
    "    sub_voc = cas_voc[cas_voc[\"Genome_assembly\"] == current_assembly[\"Assembly\"]] # subsection of cas_voc that is referring to this genome assembly file\n",
    "    new_cas_voc = pd.concat([new_cas_voc, extract_from_fasta(sub_voc, current_assembly)])\n",
    "\n"
   ]
  },
  {
   "cell_type": "code",
   "execution_count": 17,
   "metadata": {},
   "outputs": [
    {
     "data": {
      "text/plain": [
       "False"
      ]
     },
     "execution_count": 17,
     "metadata": {},
     "output_type": "execute_result"
    }
   ],
   "source": [
    "s1 = set(file_structure[\"Assembly\"])\n",
    "s2 = set(cas_voc[\"Genome_assembly\"])\n",
    "diff = s2 - s1\n",
    "len(diff) == len(missing)\n",
    "\n",
    "# We only lost genomes that weren't found on ncbi during download phase"
   ]
  },
  {
   "cell_type": "code",
   "execution_count": 18,
   "metadata": {},
   "outputs": [
    {
     "data": {
      "text/html": [
       "<div>\n",
       "<style scoped>\n",
       "    .dataframe tbody tr th:only-of-type {\n",
       "        vertical-align: middle;\n",
       "    }\n",
       "\n",
       "    .dataframe tbody tr th {\n",
       "        vertical-align: top;\n",
       "    }\n",
       "\n",
       "    .dataframe thead th {\n",
       "        text-align: right;\n",
       "    }\n",
       "</style>\n",
       "<table border=\"1\" class=\"dataframe\">\n",
       "  <thead>\n",
       "    <tr style=\"text-align: right;\">\n",
       "      <th></th>\n",
       "      <th>Loci_id</th>\n",
       "      <th>Strand</th>\n",
       "      <th>Genome_assembly</th>\n",
       "      <th>Chromosome</th>\n",
       "      <th>N1</th>\n",
       "      <th>Protein_id</th>\n",
       "      <th>B2</th>\n",
       "      <th>Gene_id</th>\n",
       "      <th>Gene_family</th>\n",
       "      <th>Type</th>\n",
       "      <th>Species</th>\n",
       "      <th>Start</th>\n",
       "      <th>End</th>\n",
       "      <th>Seq</th>\n",
       "      <th>Prot</th>\n",
       "    </tr>\n",
       "  </thead>\n",
       "  <tbody>\n",
       "    <tr>\n",
       "      <th>0</th>\n",
       "      <td>RN99_05230</td>\n",
       "      <td>-</td>\n",
       "      <td>GCA_001296125.1</td>\n",
       "      <td>CP012714.1</td>\n",
       "      <td>991.0</td>\n",
       "      <td>ALF19893_1</td>\n",
       "      <td>+</td>\n",
       "      <td>cd09644</td>\n",
       "      <td>csn2</td>\n",
       "      <td>CAS-II-A</td>\n",
       "      <td>Fusobacterium_nucleatum_sub_vincentii_ChDC_F8_...</td>\n",
       "      <td>1100111</td>\n",
       "      <td>1100773</td>\n",
       "      <td>TTAGAAAATTTCACATAAATCATTATCTATAACAATTAAATTATCA...</td>\n",
       "      <td>MTFQYKGFNFKIDFEEKNIFSLIVENKRAYRKIIEDLVNNSNIEDG...</td>\n",
       "    </tr>\n",
       "    <tr>\n",
       "      <th>0</th>\n",
       "      <td>RN99_05235</td>\n",
       "      <td>-</td>\n",
       "      <td>GCA_001296125.1</td>\n",
       "      <td>CP012714.1</td>\n",
       "      <td>992.0</td>\n",
       "      <td>ALF20727_1</td>\n",
       "      <td>+</td>\n",
       "      <td>mkCas0206</td>\n",
       "      <td>cas2</td>\n",
       "      <td>CAS-II-A</td>\n",
       "      <td>Fusobacterium_nucleatum_sub_vincentii_ChDC_F8_...</td>\n",
       "      <td>1100770</td>\n",
       "      <td>1101075</td>\n",
       "      <td>TCATAAAACCACAAGCCTTTCATCTGTTTCTAAAAATGTCCCTTTT...</td>\n",
       "      <td>MRMLLFFDLPSVTNSDLKEYRKFRKFLIENGFSMLQESVYSKLLLH...</td>\n",
       "    </tr>\n",
       "    <tr>\n",
       "      <th>0</th>\n",
       "      <td>RN99_05240</td>\n",
       "      <td>-</td>\n",
       "      <td>GCA_001296125.1</td>\n",
       "      <td>CP012714.1</td>\n",
       "      <td>993.0</td>\n",
       "      <td>ALF19894_1</td>\n",
       "      <td>+</td>\n",
       "      <td>cd09720</td>\n",
       "      <td>cas1</td>\n",
       "      <td>CAS-II-A</td>\n",
       "      <td>Fusobacterium_nucleatum_sub_vincentii_ChDC_F8_...</td>\n",
       "      <td>1101080</td>\n",
       "      <td>1101958</td>\n",
       "      <td>CTATAACTCATCTTGAAAAAATCTCACTAATGATAAATCATTTGAG...</td>\n",
       "      <td>MSGWRVIIVTGRGKLDLRYNSISIRRDNGTDFIHIGEVNTLILETT...</td>\n",
       "    </tr>\n",
       "    <tr>\n",
       "      <th>0</th>\n",
       "      <td>RN99_05245</td>\n",
       "      <td>-</td>\n",
       "      <td>GCA_001296125.1</td>\n",
       "      <td>CP012714.1</td>\n",
       "      <td>994.0</td>\n",
       "      <td>ALF19895_1</td>\n",
       "      <td>+</td>\n",
       "      <td>mkCas0193</td>\n",
       "      <td>cas9</td>\n",
       "      <td>CAS-II-A</td>\n",
       "      <td>Fusobacterium_nucleatum_sub_vincentii_ChDC_F8_...</td>\n",
       "      <td>1101985</td>\n",
       "      <td>1106109</td>\n",
       "      <td>TTATAGTTTAATTTTCTTTACAAAAAGCCCTGTAACTGATTCTTCT...</td>\n",
       "      <td>MKKQKFSDYYLGFDIGTNSVGWCVTDLDYNVLRFNKKDMWGSRLFD...</td>\n",
       "    </tr>\n",
       "    <tr>\n",
       "      <th>0</th>\n",
       "      <td>Tel_12180</td>\n",
       "      <td>-</td>\n",
       "      <td>GCA_001447805.1</td>\n",
       "      <td>CP013099.1</td>\n",
       "      <td>2369.0</td>\n",
       "      <td>ALP53829_1</td>\n",
       "      <td>+</td>\n",
       "      <td>pfam09618</td>\n",
       "      <td>cas6f</td>\n",
       "      <td>CAS-I-F</td>\n",
       "      <td>Candidatus_Tenderia_electrophaga</td>\n",
       "      <td>2660425</td>\n",
       "      <td>2660991</td>\n",
       "      <td>TCAAAACCAAGGAATGGTGGCTTCGTTACTCAGACCGTAGGTGTTG...</td>\n",
       "      <td>MNRYQNIKILPDPEFPAPMLINALFAKLHRALVALQSREIGVSFPK...</td>\n",
       "    </tr>\n",
       "    <tr>\n",
       "      <th>...</th>\n",
       "      <td>...</td>\n",
       "      <td>...</td>\n",
       "      <td>...</td>\n",
       "      <td>...</td>\n",
       "      <td>...</td>\n",
       "      <td>...</td>\n",
       "      <td>...</td>\n",
       "      <td>...</td>\n",
       "      <td>...</td>\n",
       "      <td>...</td>\n",
       "      <td>...</td>\n",
       "      <td>...</td>\n",
       "      <td>...</td>\n",
       "      <td>...</td>\n",
       "      <td>...</td>\n",
       "    </tr>\n",
       "    <tr>\n",
       "      <th>0</th>\n",
       "      <td>DQN35_RS05450</td>\n",
       "      <td>-</td>\n",
       "      <td>GCF_900476015.1</td>\n",
       "      <td>NZ_LS483442.1</td>\n",
       "      <td>987.0</td>\n",
       "      <td>WP_011285506_1</td>\n",
       "      <td>+</td>\n",
       "      <td>COG3513</td>\n",
       "      <td>cas9</td>\n",
       "      <td>CAS-II-A</td>\n",
       "      <td>Streptococcus_pyogenes_NCTC8370</td>\n",
       "      <td>1028203</td>\n",
       "      <td>1032309</td>\n",
       "      <td>TCAGTCACCTCCTAGCTGACTCAAATCAATGCGTGTTTCATAAAGA...</td>\n",
       "      <td>MDKKYSIGLDIGTNSVGWAVITDDYKVPSKKFKVLGNTDRHSIKKN...</td>\n",
       "    </tr>\n",
       "    <tr>\n",
       "      <th>0</th>\n",
       "      <td>EL095_RS09000</td>\n",
       "      <td>-</td>\n",
       "      <td>GCF_900636345.1</td>\n",
       "      <td>NZ_LR134264.1</td>\n",
       "      <td>1709.0</td>\n",
       "      <td>WP_103364182_1</td>\n",
       "      <td>+</td>\n",
       "      <td>mkCas0216</td>\n",
       "      <td>csn2</td>\n",
       "      <td>CAS-II-A</td>\n",
       "      <td>Staphylococcus_hyicus_NCTC7944</td>\n",
       "      <td>1872256</td>\n",
       "      <td>1873107</td>\n",
       "      <td>CTAATATTTGTTCATAAATTGAATGAAGAACTCATCATCAAGATAT...</td>\n",
       "      <td>MKLVGEFNKPIEIAKQRLNVISFQNTSKLNALTEGLIKYSQSKSKN...</td>\n",
       "    </tr>\n",
       "    <tr>\n",
       "      <th>0</th>\n",
       "      <td>EL095_RS09005</td>\n",
       "      <td>-</td>\n",
       "      <td>GCF_900636345.1</td>\n",
       "      <td>NZ_LR134264.1</td>\n",
       "      <td>1710.0</td>\n",
       "      <td>WP_051035996_1</td>\n",
       "      <td>+</td>\n",
       "      <td>mkCas0206</td>\n",
       "      <td>cas2</td>\n",
       "      <td>CAS-II-A</td>\n",
       "      <td>Staphylococcus_hyicus_NCTC7944</td>\n",
       "      <td>1873104</td>\n",
       "      <td>1873412</td>\n",
       "      <td>TCATAATTCAAGAATTCTTTCTGTTGTATTTACATCATATTTCGTT...</td>\n",
       "      <td>LRLFIMFDLPVETSRERREYRKFVKFLLNEGYVRSQYSIYCKLILN...</td>\n",
       "    </tr>\n",
       "    <tr>\n",
       "      <th>0</th>\n",
       "      <td>EL095_RS09010</td>\n",
       "      <td>-</td>\n",
       "      <td>GCF_900636345.1</td>\n",
       "      <td>NZ_LR134264.1</td>\n",
       "      <td>1711.0</td>\n",
       "      <td>WP_103364183_1</td>\n",
       "      <td>+</td>\n",
       "      <td>cd09720</td>\n",
       "      <td>cas1</td>\n",
       "      <td>CAS-II-A</td>\n",
       "      <td>Staphylococcus_hyicus_NCTC7944</td>\n",
       "      <td>1873447</td>\n",
       "      <td>1874322</td>\n",
       "      <td>TTAGAAGTTAAAAACAGGCATCTTCATAAAGTTGATATCTCCACTT...</td>\n",
       "      <td>MSFRTVIITKESKLSLRMNHLIVKADELYKIPLQEILCLVIENPSV...</td>\n",
       "    </tr>\n",
       "    <tr>\n",
       "      <th>0</th>\n",
       "      <td>EL095_RS09015</td>\n",
       "      <td>-</td>\n",
       "      <td>GCF_900636345.1</td>\n",
       "      <td>NZ_LR134264.1</td>\n",
       "      <td>1712.0</td>\n",
       "      <td>WP_107552556_1</td>\n",
       "      <td>+</td>\n",
       "      <td>mkCas0193</td>\n",
       "      <td>cas9</td>\n",
       "      <td>CAS-II-A</td>\n",
       "      <td>Staphylococcus_hyicus_NCTC7944</td>\n",
       "      <td>1874312</td>\n",
       "      <td>1878346</td>\n",
       "      <td>CTAAAGCTCATTTTTAGACTCCGCTAATTTGAAAATAGATTTAGGT...</td>\n",
       "      <td>MKKTNPYILSLDIGTASIGYACMDLDFNILKYHDKDAIGVLTFEGA...</td>\n",
       "    </tr>\n",
       "  </tbody>\n",
       "</table>\n",
       "<p>36970 rows × 15 columns</p>\n",
       "</div>"
      ],
      "text/plain": [
       "          Loci_id Strand  Genome_assembly     Chromosome      N1  \\\n",
       "0      RN99_05230      -  GCA_001296125.1     CP012714.1   991.0   \n",
       "0      RN99_05235      -  GCA_001296125.1     CP012714.1   992.0   \n",
       "0      RN99_05240      -  GCA_001296125.1     CP012714.1   993.0   \n",
       "0      RN99_05245      -  GCA_001296125.1     CP012714.1   994.0   \n",
       "0       Tel_12180      -  GCA_001447805.1     CP013099.1  2369.0   \n",
       "..            ...    ...              ...            ...     ...   \n",
       "0   DQN35_RS05450      -  GCF_900476015.1  NZ_LS483442.1   987.0   \n",
       "0   EL095_RS09000      -  GCF_900636345.1  NZ_LR134264.1  1709.0   \n",
       "0   EL095_RS09005      -  GCF_900636345.1  NZ_LR134264.1  1710.0   \n",
       "0   EL095_RS09010      -  GCF_900636345.1  NZ_LR134264.1  1711.0   \n",
       "0   EL095_RS09015      -  GCF_900636345.1  NZ_LR134264.1  1712.0   \n",
       "\n",
       "        Protein_id B2    Gene_id Gene_family      Type  \\\n",
       "0       ALF19893_1  +    cd09644        csn2  CAS-II-A   \n",
       "0       ALF20727_1  +  mkCas0206        cas2  CAS-II-A   \n",
       "0       ALF19894_1  +    cd09720        cas1  CAS-II-A   \n",
       "0       ALF19895_1  +  mkCas0193        cas9  CAS-II-A   \n",
       "0       ALP53829_1  +  pfam09618       cas6f   CAS-I-F   \n",
       "..             ... ..        ...         ...       ...   \n",
       "0   WP_011285506_1  +    COG3513        cas9  CAS-II-A   \n",
       "0   WP_103364182_1  +  mkCas0216        csn2  CAS-II-A   \n",
       "0   WP_051035996_1  +  mkCas0206        cas2  CAS-II-A   \n",
       "0   WP_103364183_1  +    cd09720        cas1  CAS-II-A   \n",
       "0   WP_107552556_1  +  mkCas0193        cas9  CAS-II-A   \n",
       "\n",
       "                                              Species    Start      End  \\\n",
       "0   Fusobacterium_nucleatum_sub_vincentii_ChDC_F8_...  1100111  1100773   \n",
       "0   Fusobacterium_nucleatum_sub_vincentii_ChDC_F8_...  1100770  1101075   \n",
       "0   Fusobacterium_nucleatum_sub_vincentii_ChDC_F8_...  1101080  1101958   \n",
       "0   Fusobacterium_nucleatum_sub_vincentii_ChDC_F8_...  1101985  1106109   \n",
       "0                    Candidatus_Tenderia_electrophaga  2660425  2660991   \n",
       "..                                                ...      ...      ...   \n",
       "0                     Streptococcus_pyogenes_NCTC8370  1028203  1032309   \n",
       "0                      Staphylococcus_hyicus_NCTC7944  1872256  1873107   \n",
       "0                      Staphylococcus_hyicus_NCTC7944  1873104  1873412   \n",
       "0                      Staphylococcus_hyicus_NCTC7944  1873447  1874322   \n",
       "0                      Staphylococcus_hyicus_NCTC7944  1874312  1878346   \n",
       "\n",
       "                                                  Seq  \\\n",
       "0   TTAGAAAATTTCACATAAATCATTATCTATAACAATTAAATTATCA...   \n",
       "0   TCATAAAACCACAAGCCTTTCATCTGTTTCTAAAAATGTCCCTTTT...   \n",
       "0   CTATAACTCATCTTGAAAAAATCTCACTAATGATAAATCATTTGAG...   \n",
       "0   TTATAGTTTAATTTTCTTTACAAAAAGCCCTGTAACTGATTCTTCT...   \n",
       "0   TCAAAACCAAGGAATGGTGGCTTCGTTACTCAGACCGTAGGTGTTG...   \n",
       "..                                                ...   \n",
       "0   TCAGTCACCTCCTAGCTGACTCAAATCAATGCGTGTTTCATAAAGA...   \n",
       "0   CTAATATTTGTTCATAAATTGAATGAAGAACTCATCATCAAGATAT...   \n",
       "0   TCATAATTCAAGAATTCTTTCTGTTGTATTTACATCATATTTCGTT...   \n",
       "0   TTAGAAGTTAAAAACAGGCATCTTCATAAAGTTGATATCTCCACTT...   \n",
       "0   CTAAAGCTCATTTTTAGACTCCGCTAATTTGAAAATAGATTTAGGT...   \n",
       "\n",
       "                                                 Prot  \n",
       "0   MTFQYKGFNFKIDFEEKNIFSLIVENKRAYRKIIEDLVNNSNIEDG...  \n",
       "0   MRMLLFFDLPSVTNSDLKEYRKFRKFLIENGFSMLQESVYSKLLLH...  \n",
       "0   MSGWRVIIVTGRGKLDLRYNSISIRRDNGTDFIHIGEVNTLILETT...  \n",
       "0   MKKQKFSDYYLGFDIGTNSVGWCVTDLDYNVLRFNKKDMWGSRLFD...  \n",
       "0   MNRYQNIKILPDPEFPAPMLINALFAKLHRALVALQSREIGVSFPK...  \n",
       "..                                                ...  \n",
       "0   MDKKYSIGLDIGTNSVGWAVITDDYKVPSKKFKVLGNTDRHSIKKN...  \n",
       "0   MKLVGEFNKPIEIAKQRLNVISFQNTSKLNALTEGLIKYSQSKSKN...  \n",
       "0   LRLFIMFDLPVETSRERREYRKFVKFLLNEGYVRSQYSIYCKLILN...  \n",
       "0   MSFRTVIITKESKLSLRMNHLIVKADELYKIPLQEILCLVIENPSV...  \n",
       "0   MKKTNPYILSLDIGTASIGYACMDLDFNILKYHDKDAIGVLTFEGA...  \n",
       "\n",
       "[36970 rows x 15 columns]"
      ]
     },
     "execution_count": 18,
     "metadata": {},
     "output_type": "execute_result"
    }
   ],
   "source": [
    "cas_voc = new_cas_voc # once we are confident that new_cas_voc constructed normally we upadete \n",
    "cas_voc"
   ]
  },
  {
   "cell_type": "code",
   "execution_count": 16,
   "metadata": {},
   "outputs": [
    {
     "data": {
      "text/plain": [
       "'MTFQYKGFNFKIDFEEKNIFSLIVENKRAYRKIIEDLVNNSNIEDGDIILSKNNKLVIPEKEIFIFSDYFNFDINKFVLNKYYKELKNLSENEFLNETLEIKEILKDYINKLIENNYSLKFEDDLDVSQILKAFSIKFERSEDLLLNLFEWLKILNEILGYEIFFFINIENFLSEDELLEFSKFIVYNKYKVVFLENFYRNKLSDNDNLIVIDNDLCEIF*'"
      ]
     },
     "execution_count": 16,
     "metadata": {},
     "output_type": "execute_result"
    }
   ],
   "source": [
    "output = \"./cas_dataset_kira.tsv\"\n",
    "cas_voc = pd.read_csv(output, sep='\\t')"
   ]
  },
  {
   "cell_type": "code",
   "execution_count": 36,
   "metadata": {},
   "outputs": [
    {
     "name": "stderr",
     "output_type": "stream",
     "text": [
      "c:\\Users\\Dart_ilder\\miniconda3\\envs\\.conda_Cas\\lib\\site-packages\\Bio\\Seq.py:2979: BiopythonWarning: Partial codon, len(sequence) not a multiple of three. Explicitly trim the sequence or add trailing N before translation. This may become an error in future.\n",
      "  warnings.warn(\n"
     ]
    },
    {
     "data": {
      "text/plain": [
       "'VYVAEWRLVELRLRAEGPCPMAGWSGSAAYRILLETTRREAEPKNKIYAHPIYVGGRPLLTGVDGRAAVLEPGTRLAIRAVMSEQDAYYLLAAVSKNPRPEAPCHLEAEQLSLTALEPALPDGHGFATVKLVFAPTAFMFHGRDVLYPSPQRIAYSLTKTYRDLFGTDLKQLADRAPTALELTHFAVRPVRVGIGEARAVPAYIGKAELAIYGNVETWLALLKLGQATGVGISRAIGFGKYKIKEVKKHA '"
      ]
     },
     "execution_count": 36,
     "metadata": {},
     "output_type": "execute_result"
    }
   ],
   "source": [
    "# Protein construction\n",
    "\n",
    "from Bio.Seq import Seq\n",
    "\n",
    "def prot(gene):\n",
    "    sequence = Seq(str(gene[\"Seq\"]))\n",
    "    \n",
    "    if gene[\"Strand\"] == \"+\":\n",
    "        return str(sequence.translate(stop_symbol=\" \"))\n",
    "    else:\n",
    "        return str(sequence.reverse_complement().translate(stop_symbol=\" \"))\n",
    "    \n",
    "cas_voc[\"Prot\"] = cas_voc.apply(prot, axis=1)\n",
    "cas_voc[\"Prot\"][1547]"
   ]
  },
  {
   "cell_type": "code",
   "execution_count": 15,
   "metadata": {},
   "outputs": [
    {
     "data": {
      "text/plain": [
       "7"
      ]
     },
     "execution_count": 15,
     "metadata": {},
     "output_type": "execute_result"
    }
   ],
   "source": [
    "# Warnings suggested that there are frameshifted sequences. There are only 7, not to worry\n",
    "\n",
    "err = 0\n",
    "for index, gene in cas_voc.iterrows():\n",
    "    if(len(gene[\"Seq\"])%3 != 0):\n",
    "        err += 1\n",
    "\n",
    "err"
   ]
  },
  {
   "cell_type": "code",
   "execution_count": 18,
   "metadata": {},
   "outputs": [],
   "source": [
    "output = \"./cas_dataset_kira.tsv\"\n",
    "cas_voc.to_csv(output, sep='\\t', index = False)"
   ]
  },
  {
   "cell_type": "code",
   "execution_count": 1,
   "metadata": {},
   "outputs": [
    {
     "ename": "NameError",
     "evalue": "name 'cas_voc' is not defined",
     "output_type": "error",
     "traceback": [
      "\u001b[1;31m---------------------------------------------------------------------------\u001b[0m",
      "\u001b[1;31mNameError\u001b[0m                                 Traceback (most recent call last)",
      "Cell \u001b[1;32mIn[1], line 1\u001b[0m\n\u001b[1;32m----> 1\u001b[0m \u001b[39mtype\u001b[39m(cas_voc)\n",
      "\u001b[1;31mNameError\u001b[0m: name 'cas_voc' is not defined"
     ]
    }
   ],
   "source": [
    "type(cas_voc)"
   ]
  }
 ],
 "metadata": {
  "kernelspec": {
   "display_name": ".conda_ZTM",
   "language": "python",
   "name": "python3"
  },
  "language_info": {
   "codemirror_mode": {
    "name": "ipython",
    "version": 3
   },
   "file_extension": ".py",
   "mimetype": "text/x-python",
   "name": "python",
   "nbconvert_exporter": "python",
   "pygments_lexer": "ipython3",
   "version": "3.10.9"
  },
  "orig_nbformat": 4
 },
 "nbformat": 4,
 "nbformat_minor": 2
}
