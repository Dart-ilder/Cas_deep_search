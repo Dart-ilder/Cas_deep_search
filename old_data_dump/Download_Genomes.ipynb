{
 "cells": [
  {
   "cell_type": "code",
   "execution_count": 1,
   "id": "lesbian-credit",
   "metadata": {},
   "outputs": [],
   "source": [
    "import re\n",
    "import os\n",
    "import numpy as np\n",
    "import pandas as pd\n",
    "import os.path as op"
   ]
  },
  {
   "cell_type": "code",
   "execution_count": 17,
   "id": "nasty-skating",
   "metadata": {},
   "outputs": [
    {
     "name": "stdout",
     "output_type": "stream",
     "text": [
      "['ftp://ftp.ncbi.nlm.nih.gov/genomes/all/GCA/000/730/685/GCA_000730685.1_ASM73068v1', 'ftp://ftp.ncbi.nlm.nih.gov/genomes/all/GCA/000/022/065/GCA_000022065.1_ASM2206v1', 'ftp://ftp.ncbi.nlm.nih.gov/genomes/all/GCA/000/687/435/GCA_000687435.1_SOAPdenovo_for_Version_1.05', 'ftp://ftp.ncbi.nlm.nih.gov/genomes/all/GCA/000/023/285/GCA_000023285.1_ASM2328v1', 'ftp://ftp.ncbi.nlm.nih.gov/genomes/all/GCA/000/312/645/GCA_000312645.1_ASM31264v1', 'ftp://ftp.ncbi.nlm.nih.gov/genomes/all/GCA/000/383/255/GCA_000383255.1_ASM38325v1', 'ftp://ftp.ncbi.nlm.nih.gov/genomes/all/GCA/000/174/155/GCA_000174155.1_ASM17415v1', 'ftp://ftp.ncbi.nlm.nih.gov/genomes/all/GCA/001/907/235/GCA_001907235.1_ASM190723v1', 'ftp://ftp.ncbi.nlm.nih.gov/genomes/all/GCA/000/443/205/GCA_000443205.1_MhD193v2\\n', 'ftp://ftp.ncbi.nlm.nih.gov/genomes/all/GCA/002/563/965/GCA_002563965.1_ASM256396v1', 'ftp://ftp.ncbi.nlm.nih.gov/genomes/all/GCA/000/526/815/GCA_000526815.1_ASM52681v1', 'ftp://ftp.ncbi.nlm.nih.gov/genomes/all/GCA/004/341/385/GCA_004341385.1_ASM434138v1', 'ftp://ftp.ncbi.nlm.nih.gov/genomes/all/GCA/000/347/015/GCA_000347015.1_gls454176v01', 'ftp://ftp.ncbi.nlm.nih.gov/genomes/all/GCA/000/255/555/GCA_000255555.2_ASM25555v2', 'ftp://ftp.ncbi.nlm.nih.gov/genomes/all/GCA/000/988/655/GCA_000988655.1_ASM98865v1', 'ftp://ftp.ncbi.nlm.nih.gov/genomes/all/GCA/000/379/665/GCA_000379665.1_ASM37966v1', 'ftp://ftp.ncbi.nlm.nih.gov/genomes/all/GCA/000/262/225/GCA_000262225.1_ASM26222v1', 'ftp://ftp.ncbi.nlm.nih.gov/genomes/all/GCA/001/936/115/GCA_001936115.1_ASM193611v1', 'ftp://ftp.ncbi.nlm.nih.gov/genomes/all/GCA/000/428/105/GCA_000428105.1_ASM42810v1', 'ftp://ftp.ncbi.nlm.nih.gov/genomes/all/GCA/001/929/785/GCA_001929785.1_ASM192978v1', 'ftp://ftp.ncbi.nlm.nih.gov/genomes/all/GCA/001/698/185/GCA_001698185.1_ASM169818v1', 'ftp://ftp.ncbi.nlm.nih.gov/genomes/all/GCA/000/022/125/GCA_000022125.1_ASM2212v1', 'ftp://ftp.ncbi.nlm.nih.gov/genomes/all/GCA/000/382/145/GCA_000382145.1_ASM38214v1', 'ftp://ftp.ncbi.nlm.nih.gov/genomes/all/GCA/000/208/725/GCA_000208725.1_ASM20872v1', 'ftp://ftp.ncbi.nlm.nih.gov/genomes/all/GCA/003/041/515/GCA_003041515.1_ASM304151v1', 'ftp://ftp.ncbi.nlm.nih.gov/genomes/all/GCA/002/221/645/GCA_002221645.1_ASM222164v1', 'ftp://ftp.ncbi.nlm.nih.gov/genomes/all/GCA/001/930/475/GCA_001930475.1_ASM193047v1', 'ftp://ftp.ncbi.nlm.nih.gov/genomes/all/GCA/000/767/255/GCA_000767255.1_ASM76725v1', 'ftp://ftp.ncbi.nlm.nih.gov/genomes/all/GCA/003/952/025/GCA_003952025.1_ASM395202v1', 'ftp://ftp.ncbi.nlm.nih.gov/genomes/all/GCA/001/695/265/GCA_001695265.1_ASM169526v1', 'ftp://ftp.ncbi.nlm.nih.gov/genomes/all/GCA/001/701/045/GCA_001701045.1_ASM170104v1', 'ftp://ftp.ncbi.nlm.nih.gov/genomes/all/GCA/000/763/195/GCA_000763195.1_ASM76319v1', 'ftp://ftp.ncbi.nlm.nih.gov/genomes/all/GCA/000/020/305/GCA_000020305.1_ASM2030v1', 'ftp://ftp.ncbi.nlm.nih.gov/genomes/all/GCA/003/814/575/GCA_003814575.1_ASM381457v1', 'ftp://ftp.ncbi.nlm.nih.gov/genomes/all/GCA/001/969/165/GCA_001969165.3_ASM196916v3', 'ftp://ftp.ncbi.nlm.nih.gov/genomes/all/GCA/002/023/885/GCA_002023885.1_ASM202388v1', 'ftp://ftp.ncbi.nlm.nih.gov/genomes/all/GCA/000/379/905/GCA_000379905.1_ASM37990v1', 'ftp://ftp.ncbi.nlm.nih.gov/genomes/all/GCA/002/834/745/GCA_002834745.1_ASM283474v1', 'ftp://ftp.ncbi.nlm.nih.gov/genomes/all/GCA/004/341/945/GCA_004341945.1_ASM434194v1', 'ftp://ftp.ncbi.nlm.nih.gov/genomes/all/GCA/001/753/225/GCA_001753225.1_ASM175322v1', 'ftp://ftp.ncbi.nlm.nih.gov/genomes/all/GCA/002/835/405/GCA_002835405.1_ASM283540v1', 'ftp://ftp.ncbi.nlm.nih.gov/genomes/all/GCA/000/295/915/GCA_000295915.1_ASM29591v1', 'ftp://ftp.ncbi.nlm.nih.gov/genomes/all/GCA/000/429/745/GCA_000429745.1_ASM42974v1', 'ftp://ftp.ncbi.nlm.nih.gov/genomes/all/GCA/900/105/025/GCA_900105025.1_IMG-taxon_2636416177_annotated_assembly', 'ftp://ftp.ncbi.nlm.nih.gov/genomes/all/GCA/000/443/085/GCA_000443085.1_MhD35v2', 'ftp://ftp.ncbi.nlm.nih.gov/genomes/all/GCA/004/343/035/GCA_004343035.1_ASM434303v1', 'ftp://ftp.ncbi.nlm.nih.gov/genomes/all/GCA/900/108/995/GCA_900108995.1_IMG-taxon_2606217806_annotated_assembly\\n', 'ftp://ftp.ncbi.nlm.nih.gov/genomes/all/GCA/001/652/525/GCA_001652525.2_ASM165252v2', 'ftp://ftp.ncbi.nlm.nih.gov/genomes/all/GCA/000/372/445/GCA_000372445.1_ASM37244v1', 'ftp://ftp.ncbi.nlm.nih.gov/genomes/all/GCA/000/988/605/GCA_000988605.1_ASM98860v1', 'ftp://ftp.ncbi.nlm.nih.gov/genomes/all/GCA/004/134/955/GCA_004134955.1_ASM413495v1', 'ftp://ftp.ncbi.nlm.nih.gov/genomes/all/GCA/000/196/135/GCA_000196135.1_ASM19613v1', 'ftp://ftp.ncbi.nlm.nih.gov/genomes/all/GCA/000/376/885/GCA_000376885.1_ASM37688v1', 'ftp://ftp.ncbi.nlm.nih.gov/genomes/all/GCA/000/702/905/GCA_000702905.1_ASM70290v1', 'ftp://ftp.ncbi.nlm.nih.gov/genomes/all/GCA/900/111/595/GCA_900111595.1_IMG-taxon_2606217760_annotated_assembly', 'ftp://ftp.ncbi.nlm.nih.gov/genomes/all/GCA/003/858/455/GCA_003858455.1_ASM385845v1', 'ftp://ftp.ncbi.nlm.nih.gov/genomes/all/GCA/900/112/085/GCA_900112085.1_IMG-taxon_2651870361_annotated_assembly', 'ftp://ftp.ncbi.nlm.nih.gov/genomes/all/GCA/000/313/915/GCA_000313915.1_CMarimammalium1.0', 'ftp://ftp.ncbi.nlm.nih.gov/genomes/all/GCA/004/126/535/GCA_004126535.1_ASM412653v1', 'ftp://ftp.ncbi.nlm.nih.gov/genomes/all/GCA/000/173/775/GCA_000173775.1_ASM17377v1', 'ftp://ftp.ncbi.nlm.nih.gov/genomes/all/GCA/002/797/875/GCA_002797875.1_ASM279787v1', 'ftp://ftp.ncbi.nlm.nih.gov/genomes/all/GCA/001/612/925/GCA_001612925.1_ASM161292v1', 'ftp://ftp.ncbi.nlm.nih.gov/genomes/all/GCA/001/931/365/GCA_001931365.1_ASM193136v1\\n', 'ftp://ftp.ncbi.nlm.nih.gov/genomes/all/GCA/000/007/745/GCA_000007745.1_ASM774v1', 'ftp://ftp.ncbi.nlm.nih.gov/genomes/all/GCA/000/702/065/GCA_000702065.1_ASM70206v1', 'ftp://ftp.ncbi.nlm.nih.gov/genomes/all/GCA/004/216/775/GCA_004216775.1_ASM421677v1', 'ftp://ftp.ncbi.nlm.nih.gov/genomes/all/GCA/000/428/745/GCA_000428745.1_ASM42874v1', 'ftp://ftp.ncbi.nlm.nih.gov/genomes/all/GCA/000/153/645/GCA_000153645.1_ASM15364v1\\n', 'ftp://ftp.ncbi.nlm.nih.gov/genomes/all/GCA/004/346/165/GCA_004346165.1_ASM434616v1', 'ftp://ftp.ncbi.nlm.nih.gov/genomes/all/GCA/900/107/925/GCA_900107925.1_IMG-taxon_2675903153_annotated_assembly', 'ftp://ftp.ncbi.nlm.nih.gov/genomes/all/GCA/002/221/595/GCA_002221595.1_ASM222159v1', 'ftp://ftp.ncbi.nlm.nih.gov/genomes/all/GCA/001/945/525/GCA_001945525.1_ASM194552v1', 'ftp://ftp.ncbi.nlm.nih.gov/genomes/all/GCA/003/012/055/GCA_003012055.1_ASM301205v1', 'ftp://ftp.ncbi.nlm.nih.gov/genomes/all/GCA/001/454/945/GCA_001454945.1_ASM145494v1\\n', 'ftp://ftp.ncbi.nlm.nih.gov/genomes/all/GCA/000/988/615/GCA_000988615.1_ASM98861v1\\n', 'ftp://ftp.ncbi.nlm.nih.gov/genomes/all/GCA/000/403/395/GCA_000403395.2_Anae_bact_G3_V1\\n', 'ftp://ftp.ncbi.nlm.nih.gov/genomes/all/GCA/001/695/235/GCA_001695235.1_ASM169523v1\\n', 'ftp://ftp.ncbi.nlm.nih.gov/genomes/all/GCA/000/426/885/GCA_000426885.1_ASM42688v1', 'ftp://ftp.ncbi.nlm.nih.gov/genomes/all/GCA/000/744/025/GCA_000744025.1_CfvI642-21_v1.0\\n', 'ftp://ftp.ncbi.nlm.nih.gov/genomes/all/GCA/001/481/725/GCA_001481725.1_ASM148172v1\\n', 'ftp://ftp.ncbi.nlm.nih.gov/genomes/all/GCA/001/938/215/GCA_001938215.1_ASM193821v1\\n', 'ftp://ftp.ncbi.nlm.nih.gov/genomes/all/GCA/000/509/245/GCA_000509245.1_ASM50924v1', 'ftp://ftp.ncbi.nlm.nih.gov/genomes/all/GCA/900/609/045/GCA_900609045.1_aTB-66\\n', 'ftp://ftp.ncbi.nlm.nih.gov/genomes/all/GCA/001/689/125/GCA_001689125.2_ASM168912v2\\n', 'ftp://ftp.ncbi.nlm.nih.gov/genomes/all/GCA/000/771/365/GCA_000771365.1_DSM-20222', 'ftp://ftp.ncbi.nlm.nih.gov/genomes/all/GCA/002/155/975/GCA_002155975.1_ASM215597v1', 'ftp://ftp.ncbi.nlm.nih.gov/genomes/all/GCA/000/384/195/GCA_000384195.1_ASM38419v1', 'ftp://ftp.ncbi.nlm.nih.gov/genomes/all/GCA/001/695/195/GCA_001695195.1_ASM169519v1\\n', 'ftp://ftp.ncbi.nlm.nih.gov/genomes/all/GCA/000/308/635/GCA_000308635.1_ASM30863v1', 'ftp://ftp.ncbi.nlm.nih.gov/genomes/all/GCA/000/382/305/GCA_000382305.1_ASM38230v1', 'ftp://ftp.ncbi.nlm.nih.gov/genomes/all/GCA/000/279/975/GCA_000279975.1_ASM27997v1', 'ftp://ftp.ncbi.nlm.nih.gov/genomes/all/GCA/000/379/845/GCA_000379845.1_ASM37984v1', 'ftp://ftp.ncbi.nlm.nih.gov/genomes/all/GCA/000/688/855/GCA_000688855.1_HparHPS9v1.0\\n', 'ftp://ftp.ncbi.nlm.nih.gov/genomes/all/GCA/002/150/765/GCA_002150765.1_ASM215076v1', 'ftp://ftp.ncbi.nlm.nih.gov/genomes/all/GCA/900/143/205/GCA_900143205.1_IMG-taxon_2582580726_annotated_assembly', 'ftp://ftp.ncbi.nlm.nih.gov/genomes/all/GCA/000/025/305/GCA_000025305.1_ASM2530v1', 'ftp://ftp.ncbi.nlm.nih.gov/genomes/all/GCA/003/312/305/GCA_003312305.1_ASM331230v1\\n', 'ftp://ftp.ncbi.nlm.nih.gov/genomes/all/GCA/900/111/135/GCA_900111135.1_IMG-taxon_2684622850_annotated_assembly', 'ftp://ftp.ncbi.nlm.nih.gov/genomes/all/GCA/003/284/505/GCA_003284505.1_ASM328450v1\\n', 'ftp://ftp.ncbi.nlm.nih.gov/genomes/all/GCA/004/342/915/GCA_004342915.1_ASM434291v1']\n"
     ]
    }
   ],
   "source": [
    "links = []\n",
    "ftp = \"ftp://([a-z0-9]+:[a-z0-9]+@)?([\\\\.a-z0-9]+)/([\\\\./a-z0-9]+)[^\\s]+\"\n",
    "with open('./assembly_file_mammal_bact.txt', \"r\") as ih:\n",
    "    for a in ih:\n",
    "        for k in a.split(\"\\t\"):\n",
    "            if (k[:6] == \"ftp://\"):\n",
    "                links.append(k)\n",
    "print(links)\n",
    "#print(links.append(re.search(ftp, a)[0]))\n"
   ]
  },
  {
   "cell_type": "code",
   "execution_count": 18,
   "id": "primary-recommendation",
   "metadata": {},
   "outputs": [],
   "source": [
    "if not op.exists(\"../data/full_genomes/\"):\n",
    "    os.makedirs(\"../data/full_genomes/\")\n",
    "with open(\"../data/full_genomes/download_and_unzip.sh\", \"w\") as oh:\n",
    "    oh.write(\"#!/bin/sh\\n\\n\\n\")\n",
    "    for a in links:\n",
    "        oh.write(\"wget \"+a+\"/\"+a.split(\"/\")[-1]+'_genomic.fna.gz\\n\\n')\n",
    "        oh.write(\"gunzip \"+a.split(\"/\")[-1]+'_genomic.fna.gz\\n\\n')"
   ]
  },
  {
   "cell_type": "code",
   "execution_count": 8,
   "id": "88070d9f",
   "metadata": {},
   "outputs": [
    {
     "data": {
      "text/plain": [
       "'wget ftp://ftp.ncbi.nlm.nih.gov/genomes/all/GCA/002/023/885/GCA_002023885.1_ASM202388v1/GCA_002023885.1_ASM202388v1_genomic.fna.gz\\n\\n'"
      ]
     },
     "execution_count": 8,
     "metadata": {},
     "output_type": "execute_result"
    }
   ],
   "source": [
    "a = \"ftp://ftp.ncbi.nlm.nih.gov/genomes/all/GCA/002/023/885/GCA_002023885.1_ASM202388v1\"\n",
    "\"wget \"+a+\"/\"+a.split(\"/\")[-1]+'_genomic.fna.gz\\n\\n'"
   ]
  },
  {
   "cell_type": "code",
   "execution_count": null,
   "id": "d0d6afde",
   "metadata": {},
   "outputs": [],
   "source": []
  }
 ],
 "metadata": {
  "kernelspec": {
   "display_name": "Python 3",
   "language": "python",
   "name": "python3"
  },
  "language_info": {
   "codemirror_mode": {
    "name": "ipython",
    "version": 3
   },
   "file_extension": ".py",
   "mimetype": "text/x-python",
   "name": "python",
   "nbconvert_exporter": "python",
   "pygments_lexer": "ipython3",
   "version": "3.10.9"
  },
  "vscode": {
   "interpreter": {
    "hash": "eefbaa28ee59832011bb9565a82bf6bbfad22a05e4ac70064dfe3d2a0545ee7e"
   }
  }
 },
 "nbformat": 4,
 "nbformat_minor": 5
}
