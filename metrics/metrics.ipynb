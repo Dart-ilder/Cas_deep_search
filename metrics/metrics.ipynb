{
 "cells": [
  {
   "cell_type": "code",
   "execution_count": 5,
   "metadata": {},
   "outputs": [
    {
     "name": "stderr",
     "output_type": "stream",
     "text": [
      "c:\\Users\\Dart_ilder\\miniconda3\\envs\\.conda_Cas\\lib\\site-packages\\tqdm\\auto.py:21: TqdmWarning: IProgress not found. Please update jupyter and ipywidgets. See https://ipywidgets.readthedocs.io/en/stable/user_install.html\n",
      "  from .autonotebook import tqdm as notebook_tqdm\n"
     ]
    },
    {
     "name": "stdout",
     "output_type": "stream",
     "text": [
      "Pytorch 1.13.1\n"
     ]
    },
    {
     "data": {
      "text/plain": [
       "'cuda'"
      ]
     },
     "execution_count": 5,
     "metadata": {},
     "output_type": "execute_result"
    }
   ],
   "source": [
    "import torch\n",
    "print(\"Pytorch \" + torch.__version__)\n",
    "import pandas as pd\n",
    "import numpy as np\n",
    "\n",
    "from torch import nn\n",
    "from torch.utils.data import Dataset, DataLoader\n",
    "\n",
    "from transformers import Trainer, TrainingArguments, EvalPrediction\n",
    "from datasets import load_dataset\n",
    "\n",
    "from sklearn import metrics\n",
    "from scipy import stats\n",
    "from functools import partial\n",
    "from tqdm.auto import tqdm\n",
    "\n",
    "from tpot import TPOTClassifier\n",
    "from sklearn.datasets import load_digits\n",
    "from sklearn.model_selection import train_test_split\n",
    "\n",
    "from Bio import Phylo, AlignIO\n",
    "from Bio.Phylo.TreeConstruction import DistanceCalculator, DistanceTreeConstructor\n",
    "import joblib\n",
    "\n",
    "# Create device agnostic code\n",
    "\n",
    "DEVICE = \"cuda\" if torch.cuda.is_available() else \"cpu\"\n",
    "DEVICE"
   ]
  },
  {
   "cell_type": "code",
   "execution_count": 2,
   "metadata": {},
   "outputs": [
    {
     "name": "stdout",
     "output_type": "stream",
     "text": [
      "[14, 1, 0]\n",
      "0    csn2\n",
      "1    cas2\n",
      "2    cas1\n",
      "Name: Gene_family, dtype: object\n"
     ]
    }
   ],
   "source": [
    "cas_voc = pd.read_csv(\"./cas_voc.tsv\", sep=\"\\t\")\n",
    "embs = cas_voc[\"Embs\"]\n",
    "labels = cas_voc[\"Gene_family\"]\n",
    "embs = [np.fromstring(row, sep=',') for row in embs]\n",
    "embs = np.array(embs)\n",
    "len(embs)\n",
    "# Making my own tokenizer because apparently TPOT forgot how to read string classes\n",
    "\n",
    "path_classes = \"./genes_to_use.tsv\"\n",
    "with open(path_classes) as file:\n",
    "    lines = []\n",
    "    for i, line in enumerate(file):\n",
    "        if i!=0:\n",
    "            line = line.rstrip('\\n')\n",
    "            parts = line.split('\\t')\n",
    "            lines.append(parts[0])\n",
    "token = lines.index\n",
    "\n",
    "tags = []\n",
    "for label in labels:\n",
    "    tags.append(token(label))\n",
    "print(tags[0: 3])\n",
    "print(labels[0: 3])\n"
   ]
  },
  {
   "cell_type": "code",
   "execution_count": 3,
   "metadata": {},
   "outputs": [],
   "source": [
    "X_train, X_test, y_train, y_test = train_test_split(embs, tags,\n",
    "                                                    train_size=0.75, test_size=0.25, random_state=42, shuffle=True, stratify=tags)"
   ]
  },
  {
   "cell_type": "code",
   "execution_count": null,
   "metadata": {},
   "outputs": [],
   "source": [
    "# Retrain logistic regression\n",
    "\n",
    "import numpy as np\n",
    "import pandas as pd\n",
    "from sklearn.linear_model import LogisticRegression\n",
    "from sklearn.model_selection import train_test_split\n",
    "from sklearn.pipeline import make_pipeline\n",
    "from sklearn.preprocessing import RobustScaler\n",
    "\n",
    "# Average CV score on the training set was: 0.9474667732147433\n",
    "classifier = make_pipeline(\n",
    "    RobustScaler(),\n",
    "    LogisticRegression(C=1.0, dual=False, penalty=\"l2\", max_iter=100)\n",
    ")\n",
    "\n",
    "classifier.fit(X_train, y_train)\n",
    "classifier.score(X_test, y_test)"
   ]
  },
  {
   "cell_type": "code",
   "execution_count": 7,
   "metadata": {},
   "outputs": [
    {
     "data": {
      "text/plain": [
       "0.9800930433841826"
      ]
     },
     "execution_count": 7,
     "metadata": {},
     "output_type": "execute_result"
    }
   ],
   "source": [
    "classifier = joblib.load(\"./tpot_pipline.sav\")\n",
    "classifier.score(X_test, y_test)"
   ]
  },
  {
   "cell_type": "code",
   "execution_count": null,
   "metadata": {},
   "outputs": [],
   "source": [
    "# Checking accuracy of the least represented class\n",
    "\n",
    "mask = (tags == 34)\n",
    "tags = np.array(tags)\n",
    "a = tags[mask]\n",
    "A = np.array(embs)[mask]\n",
    "exported_pipeline.score(A, a)"
   ]
  },
  {
   "cell_type": "code",
   "execution_count": 9,
   "metadata": {},
   "outputs": [
    {
     "data": {
      "text/plain": [
       "<matplotlib.image.AxesImage at 0x20eee02dea0>"
      ]
     },
     "execution_count": 9,
     "metadata": {},
     "output_type": "execute_result"
    },
    {
     "data": {
      "image/png": "[encoded data removed]",
      "text/plain": [
       "<Figure size 640x480 with 1 Axes>"
      ]
     },
     "metadata": {},
     "output_type": "display_data"
    }
   ],
   "source": [
    "import matplotlib.pyplot as plt\n",
    "from sklearn.datasets import make_classification\n",
    "from sklearn.metrics import confusion_matrix, ConfusionMatrixDisplay\n",
    "from sklearn.model_selection import train_test_split\n",
    "from sklearn.svm import SVC\n",
    "y_true = y_test\n",
    "y_pred = classifier.predict(X_test)\n",
    "cm = confusion_matrix(y_true, y_pred, normalize= \"true\")\n",
    "disp = ConfusionMatrixDisplay(confusion_matrix=cm,\n",
    "                              display_labels=classifier.classes_)\n",
    "plt.imshow(cm)"
   ]
  },
  {
   "cell_type": "code",
   "execution_count": 12,
   "metadata": {},
   "outputs": [
    {
     "name": "stdout",
     "output_type": "stream",
     "text": [
      "              precision    recall  f1-score   support\n",
      "\n",
      "        cas1       1.00      0.98      0.99      1232\n",
      "        cas2       1.00      1.00      1.00      1169\n",
      "        cas5       0.99      0.99      0.99       795\n",
      "        cas7       0.98      0.98      0.98       685\n",
      "        cas3       1.00      1.00      1.00       584\n",
      "       cas6e       0.99      0.98      0.99       462\n",
      "       cas8e       0.99      0.99      0.99       454\n",
      "    cse2gr11       0.96      0.97      0.96       453\n",
      "        cas4       1.00      0.99      1.00       343\n",
      "        cas6       0.95      0.97      0.96       339\n",
      "        cas9       0.99      0.98      0.99       290\n",
      "       cas10       1.00      0.99      0.99       187\n",
      "     csm3gr7       0.97      0.96      0.97       185\n",
      "       cas8c       0.99      0.98      0.98       165\n",
      "        csn2       0.98      0.99      0.98       154\n",
      "       cas6f       0.95      0.99      0.97       146\n",
      "       cas7f       0.91      0.99      0.95       146\n",
      "       cas8f       0.95      0.95      0.95       132\n",
      "       cas5f       0.99      1.00      1.00       132\n",
      "       cas3f       1.00      0.99      1.00       125\n",
      "       cas7b       0.91      0.95      0.93       115\n",
      "        csx1       0.97      0.94      0.96       104\n",
      "    csm2gr11       0.88      0.97      0.92       100\n",
      "     csm4gr5       0.98      0.97      0.97        90\n",
      "     csm5gr7       1.00      0.99      0.99        80\n",
      "      cas8b1       0.89      0.94      0.91        67\n",
      "     cmr3gr5       0.96      0.90      0.93        61\n",
      "        csm6       1.00      0.92      0.96        60\n",
      "    cmr5gr11       0.88      0.85      0.86        59\n",
      "     cmr4gr7       0.98      0.95      0.96        57\n",
      "      cas8b2       0.96      0.91      0.94        56\n",
      "     cmr6gr7       0.98      0.96      0.97        55\n",
      "     cmr1gr7       0.98      0.96      0.97        46\n",
      "     csb2gr5       1.00      0.88      0.93        32\n",
      "     csb1gr7       0.96      0.77      0.86        31\n",
      "       csx19       0.74      0.77      0.75        26\n",
      "    csx10gr5       0.81      0.96      0.88        26\n",
      "\n",
      "    accuracy                           0.98      9243\n",
      "   macro avg       0.96      0.95      0.95      9243\n",
      "weighted avg       0.98      0.98      0.98      9243\n",
      "\n"
     ]
    }
   ],
   "source": [
    "from sklearn.metrics import classification_report\n",
    "label_names = lines\n",
    "y_true = y_test\n",
    "y_pred = classifier.predict(X_test)\n",
    "print(classification_report(y_true, y_pred, target_names=label_names))"
   ]
  },
  {
   "cell_type": "code",
   "execution_count": null,
   "metadata": {},
   "outputs": [],
   "source": []
  }
 ],
 "metadata": {
  "kernelspec": {
   "display_name": ".conda_Cas",
   "language": "python",
   "name": "python3"
  },
  "language_info": {
   "codemirror_mode": {
    "name": "ipython",
    "version": 3
   },
   "file_extension": ".py",
   "mimetype": "text/x-python",
   "name": "python",
   "nbconvert_exporter": "python",
   "pygments_lexer": "ipython3",
   "version": "3.10.9"
  },
  "orig_nbformat": 4
 },
 "nbformat": 4,
 "nbformat_minor": 2
}
